{
 "cells": [
  {
   "cell_type": "code",
   "execution_count": 1,
   "id": "b9680dcc",
   "metadata": {},
   "outputs": [
    {
     "name": "stderr",
     "output_type": "stream",
     "text": [
      "[nltk_data] Downloading package stopwords to C:\\Users\\dell\n",
      "[nltk_data]     i5\\AppData\\Roaming\\nltk_data...\n",
      "[nltk_data]   Package stopwords is already up-to-date!\n",
      "[nltk_data] Downloading package punkt to C:\\Users\\dell\n",
      "[nltk_data]     i5\\AppData\\Roaming\\nltk_data...\n",
      "[nltk_data]   Package punkt is already up-to-date!\n",
      "[nltk_data] Downloading package wordnet to C:\\Users\\dell\n",
      "[nltk_data]     i5\\AppData\\Roaming\\nltk_data...\n",
      "[nltk_data]   Package wordnet is already up-to-date!\n"
     ]
    }
   ],
   "source": [
    "# Importing required libraries \n",
    "import sys\n",
    "import codecs\n",
    "import datetime                              # For handling date and time\n",
    "import lxml.html\n",
    "import pandas as pd                          # Package to store and manipulate data\n",
    "import numpy as np                           # Package to store and manipulate data\n",
    "import matplotlib.pyplot as plt              # Plotting package\n",
    "import operator\n",
    "from collections import Counter\n",
    "import itertools  \n",
    "import collections\n",
    "import urllib.request                        # For handling URLs\n",
    "import dask.dataframe as dd\n",
    "import seaborn as sns                        # Plotting package \n",
    "import sklearn                               # Model building package\n",
    "from nltk.tokenize import RegexpTokenizer    # For tokrnizing the sentences\n",
    "from nltk.corpus import stopwords            # For removing stopwords \n",
    "import re                                    # Packages to clean text\n",
    "import nltk                                  # Helps in handling and cleaning text data\n",
    "nltk.download('stopwords')\n",
    "nltk.download('punkt')\n",
    "import nltk as nlp\n",
    "nltk.download('wordnet')\n",
    "import string\n",
    "from sklearn.feature_extraction.text import CountVectorizer   \n",
    "import matplotlib.colors as mcolors\n",
    "from sklearn import preprocessing \n",
    "from sklearn.preprocessing import LabelEncoder\n",
    "from sklearn import preprocessing\n",
    "from sklearn.preprocessing import StandardScaler\n",
    "from sklearn.metrics.pairwise import cosine_similarity\n",
    "from vaderSentiment.vaderSentiment import SentimentIntensityAnalyzer   # Helps in sentiment analysis\n",
    "import plotly.express as px\n",
    "import plotly.graph_objects as go\n",
    "from sklearn.preprocessing import MinMaxScaler"
   ]
  },
  {
   "cell_type": "code",
   "execution_count": 2,
   "id": "ab92913a",
   "metadata": {},
   "outputs": [],
   "source": [
    "df = pd.read_csv(\"AdorableNstyWmn.csv\")  # loading dataset "
   ]
  },
  {
   "cell_type": "code",
   "execution_count": 3,
   "id": "23f5eae4",
   "metadata": {},
   "outputs": [
    {
     "data": {
      "text/html": [
       "<div>\n",
       "<style scoped>\n",
       "    .dataframe tbody tr th:only-of-type {\n",
       "        vertical-align: middle;\n",
       "    }\n",
       "\n",
       "    .dataframe tbody tr th {\n",
       "        vertical-align: top;\n",
       "    }\n",
       "\n",
       "    .dataframe thead th {\n",
       "        text-align: right;\n",
       "    }\n",
       "</style>\n",
       "<table border=\"1\" class=\"dataframe\">\n",
       "  <thead>\n",
       "    <tr style=\"text-align: right;\">\n",
       "      <th></th>\n",
       "      <th>id_no</th>\n",
       "      <th>tweet_id</th>\n",
       "      <th>tweet_created_at</th>\n",
       "      <th>tweet_text</th>\n",
       "      <th>in_reply to status_id</th>\n",
       "      <th>in_reply_to_screen_name</th>\n",
       "      <th>in_reply_to_status_id_str</th>\n",
       "      <th>in_reply_to_user_id</th>\n",
       "      <th>in_reply_to_user_id_str</th>\n",
       "      <th>favorite_count</th>\n",
       "      <th>...</th>\n",
       "      <th>user_name</th>\n",
       "      <th>user_protected</th>\n",
       "      <th>user-verified</th>\n",
       "      <th>lang</th>\n",
       "      <th>user_description</th>\n",
       "      <th>geo_enabled</th>\n",
       "      <th>user_screen_name</th>\n",
       "      <th>user_statuses_count</th>\n",
       "      <th>tweet_truncated</th>\n",
       "      <th>tweet_is_quote_status</th>\n",
       "    </tr>\n",
       "  </thead>\n",
       "  <tbody>\n",
       "    <tr>\n",
       "      <th>0</th>\n",
       "      <td>1</td>\n",
       "      <td>1311387060725379073</td>\n",
       "      <td>2020-09-30 19:26:54</td>\n",
       "      <td>@stevenportnoy We need expert input.  It is th...</td>\n",
       "      <td>1311355856450129920</td>\n",
       "      <td>stevenportnoy</td>\n",
       "      <td>1311355856450129920</td>\n",
       "      <td>24703826</td>\n",
       "      <td>24703826</td>\n",
       "      <td>0</td>\n",
       "      <td>...</td>\n",
       "      <td>dora diora noble</td>\n",
       "      <td>False</td>\n",
       "      <td>False</td>\n",
       "      <td>en</td>\n",
       "      <td>Evaluation of @realDonaldTrump's mental state ...</td>\n",
       "      <td>True</td>\n",
       "      <td>AdorableNstyWmn</td>\n",
       "      <td>11456</td>\n",
       "      <td>False</td>\n",
       "      <td>False</td>\n",
       "    </tr>\n",
       "    <tr>\n",
       "      <th>1</th>\n",
       "      <td>2</td>\n",
       "      <td>1311386527121829888</td>\n",
       "      <td>2020-09-30 19:24:47</td>\n",
       "      <td>@AaronLo68947221 @JustinKollar @JoeBiden Child...</td>\n",
       "      <td>1311382663928909824</td>\n",
       "      <td>AaronLo68947221</td>\n",
       "      <td>1311382663928909824</td>\n",
       "      <td>1300351487814623232</td>\n",
       "      <td>1300351487814623232</td>\n",
       "      <td>0</td>\n",
       "      <td>...</td>\n",
       "      <td>dora diora noble</td>\n",
       "      <td>False</td>\n",
       "      <td>False</td>\n",
       "      <td>en</td>\n",
       "      <td>Evaluation of @realDonaldTrump's mental state ...</td>\n",
       "      <td>True</td>\n",
       "      <td>AdorableNstyWmn</td>\n",
       "      <td>11456</td>\n",
       "      <td>False</td>\n",
       "      <td>False</td>\n",
       "    </tr>\n",
       "    <tr>\n",
       "      <th>2</th>\n",
       "      <td>3</td>\n",
       "      <td>1311385704245522433</td>\n",
       "      <td>2020-09-30 19:21:30</td>\n",
       "      <td>@DarrellIssa Umm, face masks, then we shouldn'...</td>\n",
       "      <td>1311152470400196608</td>\n",
       "      <td>DarrellIssa</td>\n",
       "      <td>1311152470400196608</td>\n",
       "      <td>22509548</td>\n",
       "      <td>22509548</td>\n",
       "      <td>0</td>\n",
       "      <td>...</td>\n",
       "      <td>dora diora noble</td>\n",
       "      <td>False</td>\n",
       "      <td>False</td>\n",
       "      <td>en</td>\n",
       "      <td>Evaluation of @realDonaldTrump's mental state ...</td>\n",
       "      <td>True</td>\n",
       "      <td>AdorableNstyWmn</td>\n",
       "      <td>11456</td>\n",
       "      <td>False</td>\n",
       "      <td>False</td>\n",
       "    </tr>\n",
       "    <tr>\n",
       "      <th>3</th>\n",
       "      <td>4</td>\n",
       "      <td>1311330091209601026</td>\n",
       "      <td>2020-09-30 15:40:31</td>\n",
       "      <td>@oliverdarcy I will take seemingly senile over...</td>\n",
       "      <td>1311095192343252992</td>\n",
       "      <td>oliverdarcy</td>\n",
       "      <td>1311095192343252992</td>\n",
       "      <td>27075032</td>\n",
       "      <td>27075032</td>\n",
       "      <td>0</td>\n",
       "      <td>...</td>\n",
       "      <td>dora diora noble</td>\n",
       "      <td>False</td>\n",
       "      <td>False</td>\n",
       "      <td>en</td>\n",
       "      <td>Evaluation of @realDonaldTrump's mental state ...</td>\n",
       "      <td>True</td>\n",
       "      <td>AdorableNstyWmn</td>\n",
       "      <td>11456</td>\n",
       "      <td>False</td>\n",
       "      <td>False</td>\n",
       "    </tr>\n",
       "    <tr>\n",
       "      <th>4</th>\n",
       "      <td>5</td>\n",
       "      <td>1311329203434844161</td>\n",
       "      <td>2020-09-30 15:37:00</td>\n",
       "      <td>@BeauWillimon They are no match for Angry Moms...</td>\n",
       "      <td>1311323228116320256</td>\n",
       "      <td>BeauWillimon</td>\n",
       "      <td>1311323228116320256</td>\n",
       "      <td>28185163</td>\n",
       "      <td>28185163</td>\n",
       "      <td>7</td>\n",
       "      <td>...</td>\n",
       "      <td>dora diora noble</td>\n",
       "      <td>False</td>\n",
       "      <td>False</td>\n",
       "      <td>en</td>\n",
       "      <td>Evaluation of @realDonaldTrump's mental state ...</td>\n",
       "      <td>True</td>\n",
       "      <td>AdorableNstyWmn</td>\n",
       "      <td>11456</td>\n",
       "      <td>False</td>\n",
       "      <td>False</td>\n",
       "    </tr>\n",
       "  </tbody>\n",
       "</table>\n",
       "<p>5 rows × 28 columns</p>\n",
       "</div>"
      ],
      "text/plain": [
       "   id_no             tweet_id     tweet_created_at  \\\n",
       "0      1  1311387060725379073  2020-09-30 19:26:54   \n",
       "1      2  1311386527121829888  2020-09-30 19:24:47   \n",
       "2      3  1311385704245522433  2020-09-30 19:21:30   \n",
       "3      4  1311330091209601026  2020-09-30 15:40:31   \n",
       "4      5  1311329203434844161  2020-09-30 15:37:00   \n",
       "\n",
       "                                          tweet_text in_reply to status_id  \\\n",
       "0  @stevenportnoy We need expert input.  It is th...   1311355856450129920   \n",
       "1  @AaronLo68947221 @JustinKollar @JoeBiden Child...   1311382663928909824   \n",
       "2  @DarrellIssa Umm, face masks, then we shouldn'...   1311152470400196608   \n",
       "3  @oliverdarcy I will take seemingly senile over...   1311095192343252992   \n",
       "4  @BeauWillimon They are no match for Angry Moms...   1311323228116320256   \n",
       "\n",
       "  in_reply_to_screen_name in_reply_to_status_id_str  in_reply_to_user_id  \\\n",
       "0           stevenportnoy       1311355856450129920             24703826   \n",
       "1         AaronLo68947221       1311382663928909824  1300351487814623232   \n",
       "2             DarrellIssa       1311152470400196608             22509548   \n",
       "3             oliverdarcy       1311095192343252992             27075032   \n",
       "4            BeauWillimon       1311323228116320256             28185163   \n",
       "\n",
       "  in_reply_to_user_id_str  favorite_count  ...         user_name  \\\n",
       "0                24703826               0  ...  dora diora noble   \n",
       "1     1300351487814623232               0  ...  dora diora noble   \n",
       "2                22509548               0  ...  dora diora noble   \n",
       "3                27075032               0  ...  dora diora noble   \n",
       "4                28185163               7  ...  dora diora noble   \n",
       "\n",
       "  user_protected user-verified lang  \\\n",
       "0          False         False   en   \n",
       "1          False         False   en   \n",
       "2          False         False   en   \n",
       "3          False         False   en   \n",
       "4          False         False   en   \n",
       "\n",
       "                                    user_description  geo_enabled  \\\n",
       "0  Evaluation of @realDonaldTrump's mental state ...         True   \n",
       "1  Evaluation of @realDonaldTrump's mental state ...         True   \n",
       "2  Evaluation of @realDonaldTrump's mental state ...         True   \n",
       "3  Evaluation of @realDonaldTrump's mental state ...         True   \n",
       "4  Evaluation of @realDonaldTrump's mental state ...         True   \n",
       "\n",
       "   user_screen_name  user_statuses_count tweet_truncated  \\\n",
       "0   AdorableNstyWmn                11456           False   \n",
       "1   AdorableNstyWmn                11456           False   \n",
       "2   AdorableNstyWmn                11456           False   \n",
       "3   AdorableNstyWmn                11456           False   \n",
       "4   AdorableNstyWmn                11456           False   \n",
       "\n",
       "   tweet_is_quote_status  \n",
       "0                  False  \n",
       "1                  False  \n",
       "2                  False  \n",
       "3                  False  \n",
       "4                  False  \n",
       "\n",
       "[5 rows x 28 columns]"
      ]
     },
     "execution_count": 3,
     "metadata": {},
     "output_type": "execute_result"
    }
   ],
   "source": [
    "df.head()       # reading dataset"
   ]
  },
  {
   "cell_type": "code",
   "execution_count": 4,
   "id": "d06a9e88",
   "metadata": {},
   "outputs": [
    {
     "data": {
      "text/html": [
       "<div>\n",
       "<style scoped>\n",
       "    .dataframe tbody tr th:only-of-type {\n",
       "        vertical-align: middle;\n",
       "    }\n",
       "\n",
       "    .dataframe tbody tr th {\n",
       "        vertical-align: top;\n",
       "    }\n",
       "\n",
       "    .dataframe thead th {\n",
       "        text-align: right;\n",
       "    }\n",
       "</style>\n",
       "<table border=\"1\" class=\"dataframe\">\n",
       "  <thead>\n",
       "    <tr style=\"text-align: right;\">\n",
       "      <th></th>\n",
       "      <th>id_no</th>\n",
       "      <th>tweet_id</th>\n",
       "      <th>favorite_count</th>\n",
       "      <th>retweet_count</th>\n",
       "      <th>followers_count</th>\n",
       "      <th>friends_count</th>\n",
       "      <th>user_statuses_count</th>\n",
       "    </tr>\n",
       "  </thead>\n",
       "  <tbody>\n",
       "    <tr>\n",
       "      <th>count</th>\n",
       "      <td>1100.000000</td>\n",
       "      <td>1.100000e+03</td>\n",
       "      <td>1100.000000</td>\n",
       "      <td>1100.000000</td>\n",
       "      <td>1100.0</td>\n",
       "      <td>1100.0</td>\n",
       "      <td>1100.0</td>\n",
       "    </tr>\n",
       "    <tr>\n",
       "      <th>mean</th>\n",
       "      <td>550.500000</td>\n",
       "      <td>1.290838e+18</td>\n",
       "      <td>0.756364</td>\n",
       "      <td>3163.126364</td>\n",
       "      <td>741.0</td>\n",
       "      <td>1170.0</td>\n",
       "      <td>11456.0</td>\n",
       "    </tr>\n",
       "    <tr>\n",
       "      <th>std</th>\n",
       "      <td>317.686953</td>\n",
       "      <td>1.096313e+16</td>\n",
       "      <td>5.822574</td>\n",
       "      <td>22272.378108</td>\n",
       "      <td>0.0</td>\n",
       "      <td>0.0</td>\n",
       "      <td>0.0</td>\n",
       "    </tr>\n",
       "    <tr>\n",
       "      <th>min</th>\n",
       "      <td>1.000000</td>\n",
       "      <td>1.278368e+18</td>\n",
       "      <td>0.000000</td>\n",
       "      <td>0.000000</td>\n",
       "      <td>741.0</td>\n",
       "      <td>1170.0</td>\n",
       "      <td>11456.0</td>\n",
       "    </tr>\n",
       "    <tr>\n",
       "      <th>25%</th>\n",
       "      <td>275.750000</td>\n",
       "      <td>1.280778e+18</td>\n",
       "      <td>0.000000</td>\n",
       "      <td>0.000000</td>\n",
       "      <td>741.0</td>\n",
       "      <td>1170.0</td>\n",
       "      <td>11456.0</td>\n",
       "    </tr>\n",
       "    <tr>\n",
       "      <th>50%</th>\n",
       "      <td>550.500000</td>\n",
       "      <td>1.287355e+18</td>\n",
       "      <td>0.000000</td>\n",
       "      <td>0.000000</td>\n",
       "      <td>741.0</td>\n",
       "      <td>1170.0</td>\n",
       "      <td>11456.0</td>\n",
       "    </tr>\n",
       "    <tr>\n",
       "      <th>75%</th>\n",
       "      <td>825.250000</td>\n",
       "      <td>1.302495e+18</td>\n",
       "      <td>0.000000</td>\n",
       "      <td>266.250000</td>\n",
       "      <td>741.0</td>\n",
       "      <td>1170.0</td>\n",
       "      <td>11456.0</td>\n",
       "    </tr>\n",
       "    <tr>\n",
       "      <th>max</th>\n",
       "      <td>1100.000000</td>\n",
       "      <td>1.311387e+18</td>\n",
       "      <td>126.000000</td>\n",
       "      <td>670503.000000</td>\n",
       "      <td>741.0</td>\n",
       "      <td>1170.0</td>\n",
       "      <td>11456.0</td>\n",
       "    </tr>\n",
       "  </tbody>\n",
       "</table>\n",
       "</div>"
      ],
      "text/plain": [
       "             id_no      tweet_id  favorite_count  retweet_count  \\\n",
       "count  1100.000000  1.100000e+03     1100.000000    1100.000000   \n",
       "mean    550.500000  1.290838e+18        0.756364    3163.126364   \n",
       "std     317.686953  1.096313e+16        5.822574   22272.378108   \n",
       "min       1.000000  1.278368e+18        0.000000       0.000000   \n",
       "25%     275.750000  1.280778e+18        0.000000       0.000000   \n",
       "50%     550.500000  1.287355e+18        0.000000       0.000000   \n",
       "75%     825.250000  1.302495e+18        0.000000     266.250000   \n",
       "max    1100.000000  1.311387e+18      126.000000  670503.000000   \n",
       "\n",
       "       followers_count  friends_count  user_statuses_count  \n",
       "count           1100.0         1100.0               1100.0  \n",
       "mean             741.0         1170.0              11456.0  \n",
       "std                0.0            0.0                  0.0  \n",
       "min              741.0         1170.0              11456.0  \n",
       "25%              741.0         1170.0              11456.0  \n",
       "50%              741.0         1170.0              11456.0  \n",
       "75%              741.0         1170.0              11456.0  \n",
       "max              741.0         1170.0              11456.0  "
      ]
     },
     "execution_count": 4,
     "metadata": {},
     "output_type": "execute_result"
    }
   ],
   "source": [
    "df.describe()      "
   ]
  },
  {
   "cell_type": "code",
   "execution_count": 5,
   "id": "527e726c",
   "metadata": {},
   "outputs": [
    {
     "name": "stdout",
     "output_type": "stream",
     "text": [
      "Total tweets this period\n"
     ]
    },
    {
     "data": {
      "text/plain": [
       "(None, 1100)"
      ]
     },
     "execution_count": 5,
     "metadata": {},
     "output_type": "execute_result"
    }
   ],
   "source": [
    "print('Total tweets this period'), len(df.index)    # total number of tweets in 3 months of a user"
   ]
  },
  {
   "cell_type": "code",
   "execution_count": 6,
   "id": "95cf57fd",
   "metadata": {},
   "outputs": [],
   "source": [
    "# replacing None values with NaN\n",
    "df['in_reply_to_user_id'].replace('None', np.nan, inplace=True)"
   ]
  },
  {
   "cell_type": "code",
   "execution_count": 7,
   "id": "832f4e57",
   "metadata": {},
   "outputs": [],
   "source": [
    "# filling NaN values with '0'\n",
    "df['in_reply_to_user_id'] = df['in_reply_to_user_id'].fillna(0)"
   ]
  },
  {
   "cell_type": "code",
   "execution_count": 8,
   "id": "817bdace",
   "metadata": {},
   "outputs": [
    {
     "name": "stdout",
     "output_type": "stream",
     "text": [
      "      id_no             tweet_id     tweet_created_at  \\\n",
      "0         1  1311387060725379073  2020-09-30 19:26:54   \n",
      "1         2  1311386527121829888  2020-09-30 19:24:47   \n",
      "2         3  1311385704245522433  2020-09-30 19:21:30   \n",
      "3         4  1311330091209601026  2020-09-30 15:40:31   \n",
      "4         5  1311329203434844161  2020-09-30 15:37:00   \n",
      "...     ...                  ...                  ...   \n",
      "1095   1096  1278417166086270976  2020-07-01 19:56:18   \n",
      "1096   1097  1278415859958951937  2020-07-01 19:51:07   \n",
      "1097   1098  1278369024921853953  2020-07-01 16:45:01   \n",
      "1098   1099  1278368344945553408  2020-07-01 16:42:19   \n",
      "1099   1100  1278367845521342465  2020-07-01 16:40:19   \n",
      "\n",
      "                                             tweet_text in_reply to status_id  \\\n",
      "0     @stevenportnoy We need expert input.  It is th...   1311355856450129920   \n",
      "1     @AaronLo68947221 @JustinKollar @JoeBiden Child...   1311382663928909824   \n",
      "2     @DarrellIssa Umm, face masks, then we shouldn'...   1311152470400196608   \n",
      "3     @oliverdarcy I will take seemingly senile over...   1311095192343252992   \n",
      "4     @BeauWillimon They are no match for Angry Moms...   1311323228116320256   \n",
      "...                                                 ...                   ...   \n",
      "1095  @timesoftrouble @jasonhu10530544 https://t.co/...   1277887108640731136   \n",
      "1096  @DonnaNickens I am so sorry.  Do what your fam...   1278165191645999105   \n",
      "1097  Promise us you will read every word of your da...                  None   \n",
      "1098  @Caparosa52 @macktruck2019 @jasonhu10530544 @t...   1278127545905344512   \n",
      "1099  @BandyXLee1 @worldmhc @DangerousCase Thank you...   1278095738761814016   \n",
      "\n",
      "     in_reply_to_screen_name in_reply_to_status_id_str  in_reply_to_user_id  \\\n",
      "0              stevenportnoy       1311355856450129920             24703826   \n",
      "1            AaronLo68947221       1311382663928909824  1300351487814623232   \n",
      "2                DarrellIssa       1311152470400196608             22509548   \n",
      "3                oliverdarcy       1311095192343252992             27075032   \n",
      "4               BeauWillimon       1311323228116320256             28185163   \n",
      "...                      ...                       ...                  ...   \n",
      "1095          timesoftrouble       1277887108640731136             24661221   \n",
      "1096            DonnaNickens       1278165191645999105             19307428   \n",
      "1097                    None                      None                    0   \n",
      "1098              Caparosa52       1278127545905344512   808071043248111616   \n",
      "1099              BandyXLee1       1278095738761814016  1143542870575595520   \n",
      "\n",
      "     in_reply_to_user_id_str  favorite_count  ...         user_name  \\\n",
      "0                   24703826               0  ...  dora diora noble   \n",
      "1        1300351487814623232               0  ...  dora diora noble   \n",
      "2                   22509548               0  ...  dora diora noble   \n",
      "3                   27075032               0  ...  dora diora noble   \n",
      "4                   28185163               7  ...  dora diora noble   \n",
      "...                      ...             ...  ...               ...   \n",
      "1095                24661221               0  ...  dora diora noble   \n",
      "1096                19307428               0  ...  dora diora noble   \n",
      "1097                    None               0  ...  dora diora noble   \n",
      "1098      808071043248111616               0  ...  dora diora noble   \n",
      "1099     1143542870575595520               0  ...  dora diora noble   \n",
      "\n",
      "     user_protected user-verified lang  \\\n",
      "0             False         False   en   \n",
      "1             False         False   en   \n",
      "2             False         False   en   \n",
      "3             False         False   en   \n",
      "4             False         False   en   \n",
      "...             ...           ...  ...   \n",
      "1095          False         False  und   \n",
      "1096          False         False   en   \n",
      "1097          False         False   en   \n",
      "1098          False         False   en   \n",
      "1099          False         False   en   \n",
      "\n",
      "                                       user_description  geo_enabled  \\\n",
      "0     Evaluation of @realDonaldTrump's mental state ...         True   \n",
      "1     Evaluation of @realDonaldTrump's mental state ...         True   \n",
      "2     Evaluation of @realDonaldTrump's mental state ...         True   \n",
      "3     Evaluation of @realDonaldTrump's mental state ...         True   \n",
      "4     Evaluation of @realDonaldTrump's mental state ...         True   \n",
      "...                                                 ...          ...   \n",
      "1095  Evaluation of @realDonaldTrump's mental state ...         True   \n",
      "1096  Evaluation of @realDonaldTrump's mental state ...         True   \n",
      "1097  Evaluation of @realDonaldTrump's mental state ...         True   \n",
      "1098  Evaluation of @realDonaldTrump's mental state ...         True   \n",
      "1099  Evaluation of @realDonaldTrump's mental state ...         True   \n",
      "\n",
      "      user_screen_name  user_statuses_count tweet_truncated  \\\n",
      "0      AdorableNstyWmn                11456           False   \n",
      "1      AdorableNstyWmn                11456           False   \n",
      "2      AdorableNstyWmn                11456           False   \n",
      "3      AdorableNstyWmn                11456           False   \n",
      "4      AdorableNstyWmn                11456           False   \n",
      "...                ...                  ...             ...   \n",
      "1095   AdorableNstyWmn                11456           False   \n",
      "1096   AdorableNstyWmn                11456           False   \n",
      "1097   AdorableNstyWmn                11456           False   \n",
      "1098   AdorableNstyWmn                11456           False   \n",
      "1099   AdorableNstyWmn                11456           False   \n",
      "\n",
      "      tweet_is_quote_status  \n",
      "0                     False  \n",
      "1                     False  \n",
      "2                     False  \n",
      "3                     False  \n",
      "4                     False  \n",
      "...                     ...  \n",
      "1095                  False  \n",
      "1096                  False  \n",
      "1097                   True  \n",
      "1098                  False  \n",
      "1099                  False  \n",
      "\n",
      "[1100 rows x 28 columns]\n"
     ]
    }
   ],
   "source": [
    "print(df)"
   ]
  },
  {
   "cell_type": "code",
   "execution_count": 9,
   "id": "a1be4257",
   "metadata": {},
   "outputs": [],
   "source": [
    "# extracting Image URL's from entities column \n",
    "df['entities'] = df.entities.str.extract(r'(http(s?):)([/|.|\\w|\\s|-])*\\.(?:jpg|gif|png)')"
   ]
  },
  {
   "cell_type": "code",
   "execution_count": 10,
   "id": "7737264e",
   "metadata": {},
   "outputs": [],
   "source": [
    "# creating dataframe of urls present in the entities\n",
    "urls = df.entities.items()\n",
    "image_urls = list(urls)\n",
    "df_urls = pd.DataFrame(image_urls)"
   ]
  },
  {
   "cell_type": "code",
   "execution_count": 11,
   "id": "83ec5e58",
   "metadata": {},
   "outputs": [],
   "source": [
    "df_multimedia = df_urls.set_axis(['tweet_without_media', 'tweet_with_multimedia'], axis=1, inplace=False)"
   ]
  },
  {
   "cell_type": "code",
   "execution_count": 12,
   "id": "88192d17",
   "metadata": {},
   "outputs": [
    {
     "data": {
      "text/plain": [
       "0        1059\n",
       "http:      41\n",
       "Name: tweet_with_multimedia, dtype: int64"
      ]
     },
     "execution_count": 12,
     "metadata": {},
     "output_type": "execute_result"
    }
   ],
   "source": [
    "df_multimedia['tweet_with_multimedia'] = df_multimedia['tweet_with_multimedia'].fillna(0)    # filling NaN values with '0'\n",
    "df_multimedia['tweet_with_multimedia'].value_counts().head()     # function for counting images urls present in the column "
   ]
  },
  {
   "cell_type": "code",
   "execution_count": 13,
   "id": "c44c19c5",
   "metadata": {},
   "outputs": [
    {
     "data": {
      "text/plain": [
       "Text(0.5, 1.0, '#percentahe of Images used in their tweets by a user')"
      ]
     },
     "execution_count": 13,
     "metadata": {},
     "output_type": "execute_result"
    },
    {
     "data": {
      "image/png": "[encoded data removed]",
      "text/plain": [
       "<Figure size 360x360 with 1 Axes>"
      ]
     },
     "metadata": {},
     "output_type": "display_data"
    }
   ],
   "source": [
    "plt.figure(figsize=(5,5)) \n",
    "df_multimedia['tweet_with_multimedia'].value_counts().plot(kind='pie', autopct='%1.1f%%')  # function for counting and ploting images urls from the coulmn using pie chart  \n",
    "plt.grid(False)\n",
    "plt.tight_layout()\n",
    "plt.title('#percentahe of Images used in their tweets by a user')"
   ]
  },
  {
   "cell_type": "code",
   "execution_count": 14,
   "id": "cb364b0d",
   "metadata": {},
   "outputs": [],
   "source": [
    "# This function will extract hashtags\n",
    "def find_hashtags(tweet_text):\n",
    "     return re.findall('(#[A-Za-z]+[A-Za-z0-9-_]+)',  str(tweet_text))"
   ]
  },
  {
   "cell_type": "code",
   "execution_count": 15,
   "id": "4e4c37f7",
   "metadata": {},
   "outputs": [],
   "source": [
    "df['hashtags'] = df['tweet_text'].apply(find_hashtags)"
   ]
  },
  {
   "cell_type": "code",
   "execution_count": 16,
   "id": "f08686b8",
   "metadata": {},
   "outputs": [],
   "source": [
    "# Hashtags & mentions\n",
    "tag_dict = {} \n",
    "mention_dict = {}\n",
    "for i in df.index:\n",
    "    Tweet_text = df.iloc[i]['tweet_text']\n",
    "    tweet =  str(Tweet_text).lower()    # lower case \n",
    "    tweet_tokenized = tweet.split()     # tokenization\n",
    "\n",
    "    for word in tweet_tokenized:\n",
    "        # Hashtags - tokenize and build dict of tag counts\n",
    "        if (word[0:1] == '#' and len(word) > 1):\n",
    "            key = word.translate(str.maketrans(\"\",\"\"))\n",
    "            if key in tag_dict:\n",
    "                tag_dict[key] += 1\n",
    "            else:\n",
    "                tag_dict[key] = 1\n",
    "                \n",
    "        # Mentions - tokenize and build dict of mention counts      \n",
    "        if (word[0:1] == '@' and len(word) > 1):\n",
    "            key = word.translate(str.maketrans(\"\",\"\"))\n",
    "            if key in mention_dict:\n",
    "                mention_dict[key] += 1\n",
    "            else:\n",
    "                mention_dict[key] = 1\n",
    "                \n",
    "# The 10 most popular tags and counts                \n",
    "top_tags = dict(sorted(tag_dict.items(), key=operator.itemgetter(1), reverse=True)[:10])\n",
    "top_tags_sorted = sorted(top_tags.items(), key=lambda x: x[1])[::-1]\n",
    "\n",
    "# The 10 most popular mentions and counts\n",
    "top_mentions = dict(sorted(mention_dict.items(), key=operator.itemgetter(1), reverse=True)[:10])\n",
    "top_mentions_sorted = sorted(top_mentions.items(), key=lambda x: x[1])[::-1]"
   ]
  },
  {
   "cell_type": "code",
   "execution_count": 17,
   "id": "6ca0cba5",
   "metadata": {},
   "outputs": [
    {
     "name": "stdout",
     "output_type": "stream",
     "text": [
      "{'#trumpvirus': 8, '#impeachbarr': 7, '#resignnowtrump': 7, '#covid19': 6, '#gopcowards': 6, '#sickofallthewinning': 5, '#removetrumpnow': 4, '#sethabramsonag2020': 3, '#votehimout': 2, '#killerinchief': 2}\n"
     ]
    }
   ],
   "source": [
    "print(top_tags)      # top 10 hashtags used by a user "
   ]
  },
  {
   "cell_type": "code",
   "execution_count": 18,
   "id": "13ddd828",
   "metadata": {},
   "outputs": [
    {
     "name": "stdout",
     "output_type": "stream",
     "text": [
      "{'@realdonaldtrump': 84, '@bandyxlee1:': 57, '@bandyxlee1': 36, '@americanreunif1': 36, '@bucksexton': 28, '@sethabramson:': 26, '@repswalwell': 25, '@roguesnradvisor': 25, '@sethabramson': 20, '@joebiden': 11}\n"
     ]
    }
   ],
   "source": [
    "print(top_mentions)  # top 10 mentions used by a user"
   ]
  },
  {
   "cell_type": "code",
   "execution_count": 19,
   "id": "135d2d4c",
   "metadata": {},
   "outputs": [],
   "source": [
    "# creating dataframe of top 10 hashtags \n",
    "data_items = top_tags.items()\n",
    "data_list = list(data_items)\n",
    "df_top_tags = pd.DataFrame(data_list)"
   ]
  },
  {
   "cell_type": "code",
   "execution_count": 20,
   "id": "af649293",
   "metadata": {},
   "outputs": [
    {
     "data": {
      "text/plain": [
       "Text(0, 0.5, 'counts')"
      ]
     },
     "execution_count": 20,
     "metadata": {},
     "output_type": "execute_result"
    },
    {
     "data": {
      "image/png": "[encoded data removed]",
      "text/plain": [
       "<Figure size 720x360 with 1 Axes>"
      ]
     },
     "metadata": {
      "needs_background": "light"
     },
     "output_type": "display_data"
    }
   ],
   "source": [
    "df_top_tags.plot(kind='bar',x=0,y=1, width =0.3,figsize =(10,5), color = 'blue')\n",
    "plt.xlabel('top 10 hashtags used by a user') \n",
    "plt.ylabel('counts')"
   ]
  },
  {
   "cell_type": "code",
   "execution_count": 21,
   "id": "92b781ee",
   "metadata": {},
   "outputs": [
    {
     "data": {
      "text/plain": [
       "Twitter for Android    964\n",
       "Twitter Web App        136\n",
       "Name: source, dtype: int64"
      ]
     },
     "execution_count": 21,
     "metadata": {},
     "output_type": "execute_result"
    }
   ],
   "source": [
    "df['source'].value_counts().head()  # function for counting different sources used by a user"
   ]
  },
  {
   "cell_type": "code",
   "execution_count": 22,
   "id": "78ff36d4",
   "metadata": {},
   "outputs": [
    {
     "data": {
      "text/plain": [
       "Text(0.5, 1.0, '# different sources used by a user to post the tweets')"
      ]
     },
     "execution_count": 22,
     "metadata": {},
     "output_type": "execute_result"
    },
    {
     "data": {
      "image/png": "[encoded data removed]",
      "text/plain": [
       "<Figure size 360x360 with 1 Axes>"
      ]
     },
     "metadata": {},
     "output_type": "display_data"
    }
   ],
   "source": [
    "plt.figure(figsize=(5,5)) \n",
    "df.source.value_counts().plot(kind='pie', autopct='%1.1f%%')\n",
    "plt.grid(False)\n",
    "plt.tight_layout()\n",
    "plt.title('# different sources used by a user to post the tweets')"
   ]
  },
  {
   "cell_type": "code",
   "execution_count": 23,
   "id": "7c77d722",
   "metadata": {},
   "outputs": [
    {
     "data": {
      "text/plain": [
       "DatetimeIndex(['2020-07-01 16:40:19', '2020-07-01 16:42:19',\n",
       "               '2020-07-01 16:45:01', '2020-07-01 19:51:07',\n",
       "               '2020-07-01 19:56:18'],\n",
       "              dtype='datetime64[ns]', name='tweet_created_at', freq=None)"
      ]
     },
     "execution_count": 23,
     "metadata": {},
     "output_type": "execute_result"
    }
   ],
   "source": [
    "# changing datetime format \n",
    "df['tweet_created_at'] = pd.to_datetime(df['tweet_created_at'])\n",
    "df.set_index(df['tweet_created_at'],inplace=True)\n",
    "df.index\n",
    "data_sample_from_pd = dd.from_pandas(df, npartitions=1)\n",
    "data_sample_from_pd.index.head()"
   ]
  },
  {
   "cell_type": "code",
   "execution_count": 24,
   "id": "5f7bc7bf",
   "metadata": {},
   "outputs": [
    {
     "data": {
      "image/png": "[encoded data removed]",
      "text/plain": [
       "<Figure size 720x360 with 1 Axes>"
      ]
     },
     "metadata": {
      "needs_background": "light"
     },
     "output_type": "display_data"
    }
   ],
   "source": [
    "# Analysing number of retweets per tweet\n",
    "time_retweets = pd.DataFrame(data =df['retweet_count'].values, index = df['tweet_created_at'])\n",
    "time_retweets.plot(figsize=(10, 5), color='orange')\n",
    "plt.ylabel('retweet count') \n",
    "plt.title('# Number of retweets per tweet')\n",
    "plt.savefig(\"bot retweets per tweet.pdf\")"
   ]
  },
  {
   "cell_type": "code",
   "execution_count": 25,
   "id": "3e63526a",
   "metadata": {},
   "outputs": [
    {
     "data": {
      "image/png": "[encoded data removed]",
      "text/plain": [
       "<Figure size 720x360 with 1 Axes>"
      ]
     },
     "metadata": {
      "needs_background": "light"
     },
     "output_type": "display_data"
    }
   ],
   "source": [
    "# Analysig number of favorites per tweet\n",
    "time_favorites = pd.DataFrame(data =df['favorite_count'].values, index = df['tweet_created_at'])\n",
    "time_favorites.plot(figsize=(10, 5), color='orange')\n",
    "plt.ylabel('favorite count') \n",
    "plt.title('# Number of favorites per tweet')\n",
    "plt.savefig(\"bot fav per tweet.pdf\")"
   ]
  },
  {
   "cell_type": "code",
   "execution_count": 26,
   "id": "bb381a30",
   "metadata": {},
   "outputs": [
    {
     "data": {
      "image/png": "[encoded data removed]",
      "text/plain": [
       "<Figure size 864x360 with 1 Axes>"
      ]
     },
     "metadata": {
      "needs_background": "light"
     },
     "output_type": "display_data"
    }
   ],
   "source": [
    "# grouping frequency of tweets per hour by a user\n",
    "df_60min = df.groupby(pd.Grouper(key='tweet_created_at', freq='60min', convention='start')).size()  \n",
    "df_60min.plot(figsize=(12,5))\n",
    "plt.ylabel('Tweet Count per 60 minutes')\n",
    "plt.title('#Tweet Frequency per hour')\n",
    "plt.xlabel('Tweet created date')\n",
    "plt.grid(True)\n",
    "plt.savefig(\"tweet freq per hour.pdf\")"
   ]
  },
  {
   "cell_type": "code",
   "execution_count": 27,
   "id": "1f0c7928",
   "metadata": {},
   "outputs": [],
   "source": [
    "# grouping frequency of tweets per day\n",
    "per_day_tweets = df.groupby(df['tweet_created_at'].dt.date).size().reset_index(name='Count')"
   ]
  },
  {
   "cell_type": "code",
   "execution_count": 31,
   "id": "89ff5dfe",
   "metadata": {},
   "outputs": [
    {
     "data": {
      "application/vnd.plotly.v1+json": {
       "config": {
        "plotlyServerURL": "https://plot.ly"
       },
       "data": [
        {
         "hovertemplate": "tweet_created_at=%{x}<br>Count=%{y}<extra></extra>",
         "legendgroup": "",
         "line": {
          "color": "#636efa"
         },
         "marker": {
          "symbol": "circle"
         },
         "mode": "lines",
         "name": "",
         "orientation": "v",
         "showlegend": false,
         "stackgroup": "1",
         "type": "scatter",
         "x": [
          "2020-07-01",
          "2020-07-02",
          "2020-07-03",
          "2020-07-04",
          "2020-07-05",
          "2020-07-06",
          "2020-07-07",
          "2020-07-08",
          "2020-07-09",
          "2020-07-10",
          "2020-07-11",
          "2020-07-12",
          "2020-07-13",
          "2020-07-14",
          "2020-07-15",
          "2020-07-16",
          "2020-07-17",
          "2020-07-20",
          "2020-07-21",
          "2020-07-22",
          "2020-07-23",
          "2020-07-24",
          "2020-07-25",
          "2020-07-26",
          "2020-07-27",
          "2020-07-28",
          "2020-07-29",
          "2020-07-30",
          "2020-07-31",
          "2020-08-02",
          "2020-08-03",
          "2020-08-04",
          "2020-08-05",
          "2020-08-06",
          "2020-08-07",
          "2020-08-09",
          "2020-08-10",
          "2020-08-11",
          "2020-08-18",
          "2020-08-20",
          "2020-08-21",
          "2020-08-22",
          "2020-08-24",
          "2020-08-26",
          "2020-08-27",
          "2020-08-28",
          "2020-08-29",
          "2020-08-30",
          "2020-08-31",
          "2020-09-01",
          "2020-09-02",
          "2020-09-03",
          "2020-09-04",
          "2020-09-05",
          "2020-09-06",
          "2020-09-07",
          "2020-09-08",
          "2020-09-09",
          "2020-09-10",
          "2020-09-11",
          "2020-09-12",
          "2020-09-13",
          "2020-09-14",
          "2020-09-15",
          "2020-09-17",
          "2020-09-19",
          "2020-09-20",
          "2020-09-21",
          "2020-09-22",
          "2020-09-23",
          "2020-09-25",
          "2020-09-26",
          "2020-09-28",
          "2020-09-29",
          "2020-09-30"
         ],
         "xaxis": "x",
         "y": [
          18,
          35,
          24,
          52,
          39,
          46,
          37,
          35,
          15,
          16,
          32,
          30,
          22,
          25,
          18,
          12,
          13,
          9,
          7,
          19,
          2,
          16,
          19,
          39,
          12,
          47,
          13,
          7,
          22,
          4,
          3,
          2,
          6,
          3,
          3,
          1,
          3,
          3,
          2,
          5,
          3,
          5,
          3,
          4,
          13,
          6,
          9,
          6,
          8,
          9,
          15,
          4,
          10,
          9,
          18,
          9,
          18,
          7,
          27,
          28,
          12,
          18,
          12,
          7,
          5,
          17,
          4,
          6,
          10,
          4,
          10,
          6,
          26,
          3,
          33
         ],
         "yaxis": "y"
        }
       ],
       "layout": {
        "legend": {
         "tracegroupgap": 0
        },
        "margin": {
         "t": 60
        },
        "template": {
         "data": {
          "bar": [
           {
            "error_x": {
             "color": "#2a3f5f"
            },
            "error_y": {
             "color": "#2a3f5f"
            },
            "marker": {
             "line": {
              "color": "#E5ECF6",
              "width": 0.5
             },
             "pattern": {
              "fillmode": "overlay",
              "size": 10,
              "solidity": 0.2
             }
            },
            "type": "bar"
           }
          ],
          "barpolar": [
           {
            "marker": {
             "line": {
              "color": "#E5ECF6",
              "width": 0.5
             },
             "pattern": {
              "fillmode": "overlay",
              "size": 10,
              "solidity": 0.2
             }
            },
            "type": "barpolar"
           }
          ],
          "carpet": [
           {
            "aaxis": {
             "endlinecolor": "#2a3f5f",
             "gridcolor": "white",
             "linecolor": "white",
             "minorgridcolor": "white",
             "startlinecolor": "#2a3f5f"
            },
            "baxis": {
             "endlinecolor": "#2a3f5f",
             "gridcolor": "white",
             "linecolor": "white",
             "minorgridcolor": "white",
             "startlinecolor": "#2a3f5f"
            },
            "type": "carpet"
           }
          ],
          "choropleth": [
           {
            "colorbar": {
             "outlinewidth": 0,
             "ticks": ""
            },
            "type": "choropleth"
           }
          ],
          "contour": [
           {
            "colorbar": {
             "outlinewidth": 0,
             "ticks": ""
            },
            "colorscale": [
             [
              0,
              "#0d0887"
             ],
             [
              0.1111111111111111,
              "#46039f"
             ],
             [
              0.2222222222222222,
              "#7201a8"
             ],
             [
              0.3333333333333333,
              "#9c179e"
             ],
             [
              0.4444444444444444,
              "#bd3786"
             ],
             [
              0.5555555555555556,
              "#d8576b"
             ],
             [
              0.6666666666666666,
              "#ed7953"
             ],
             [
              0.7777777777777778,
              "#fb9f3a"
             ],
             [
              0.8888888888888888,
              "#fdca26"
             ],
             [
              1,
              "#f0f921"
             ]
            ],
            "type": "contour"
           }
          ],
          "contourcarpet": [
           {
            "colorbar": {
             "outlinewidth": 0,
             "ticks": ""
            },
            "type": "contourcarpet"
           }
          ],
          "heatmap": [
           {
            "colorbar": {
             "outlinewidth": 0,
             "ticks": ""
            },
            "colorscale": [
             [
              0,
              "#0d0887"
             ],
             [
              0.1111111111111111,
              "#46039f"
             ],
             [
              0.2222222222222222,
              "#7201a8"
             ],
             [
              0.3333333333333333,
              "#9c179e"
             ],
             [
              0.4444444444444444,
              "#bd3786"
             ],
             [
              0.5555555555555556,
              "#d8576b"
             ],
             [
              0.6666666666666666,
              "#ed7953"
             ],
             [
              0.7777777777777778,
              "#fb9f3a"
             ],
             [
              0.8888888888888888,
              "#fdca26"
             ],
             [
              1,
              "#f0f921"
             ]
            ],
            "type": "heatmap"
           }
          ],
          "heatmapgl": [
           {
            "colorbar": {
             "outlinewidth": 0,
             "ticks": ""
            },
            "colorscale": [
             [
              0,
              "#0d0887"
             ],
             [
              0.1111111111111111,
              "#46039f"
             ],
             [
              0.2222222222222222,
              "#7201a8"
             ],
             [
              0.3333333333333333,
              "#9c179e"
             ],
             [
              0.4444444444444444,
              "#bd3786"
             ],
             [
              0.5555555555555556,
              "#d8576b"
             ],
             [
              0.6666666666666666,
              "#ed7953"
             ],
             [
              0.7777777777777778,
              "#fb9f3a"
             ],
             [
              0.8888888888888888,
              "#fdca26"
             ],
             [
              1,
              "#f0f921"
             ]
            ],
            "type": "heatmapgl"
           }
          ],
          "histogram": [
           {
            "marker": {
             "pattern": {
              "fillmode": "overlay",
              "size": 10,
              "solidity": 0.2
             }
            },
            "type": "histogram"
           }
          ],
          "histogram2d": [
           {
            "colorbar": {
             "outlinewidth": 0,
             "ticks": ""
            },
            "colorscale": [
             [
              0,
              "#0d0887"
             ],
             [
              0.1111111111111111,
              "#46039f"
             ],
             [
              0.2222222222222222,
              "#7201a8"
             ],
             [
              0.3333333333333333,
              "#9c179e"
             ],
             [
              0.4444444444444444,
              "#bd3786"
             ],
             [
              0.5555555555555556,
              "#d8576b"
             ],
             [
              0.6666666666666666,
              "#ed7953"
             ],
             [
              0.7777777777777778,
              "#fb9f3a"
             ],
             [
              0.8888888888888888,
              "#fdca26"
             ],
             [
              1,
              "#f0f921"
             ]
            ],
            "type": "histogram2d"
           }
          ],
          "histogram2dcontour": [
           {
            "colorbar": {
             "outlinewidth": 0,
             "ticks": ""
            },
            "colorscale": [
             [
              0,
              "#0d0887"
             ],
             [
              0.1111111111111111,
              "#46039f"
             ],
             [
              0.2222222222222222,
              "#7201a8"
             ],
             [
              0.3333333333333333,
              "#9c179e"
             ],
             [
              0.4444444444444444,
              "#bd3786"
             ],
             [
              0.5555555555555556,
              "#d8576b"
             ],
             [
              0.6666666666666666,
              "#ed7953"
             ],
             [
              0.7777777777777778,
              "#fb9f3a"
             ],
             [
              0.8888888888888888,
              "#fdca26"
             ],
             [
              1,
              "#f0f921"
             ]
            ],
            "type": "histogram2dcontour"
           }
          ],
          "mesh3d": [
           {
            "colorbar": {
             "outlinewidth": 0,
             "ticks": ""
            },
            "type": "mesh3d"
           }
          ],
          "parcoords": [
           {
            "line": {
             "colorbar": {
              "outlinewidth": 0,
              "ticks": ""
             }
            },
            "type": "parcoords"
           }
          ],
          "pie": [
           {
            "automargin": true,
            "type": "pie"
           }
          ],
          "scatter": [
           {
            "marker": {
             "colorbar": {
              "outlinewidth": 0,
              "ticks": ""
             }
            },
            "type": "scatter"
           }
          ],
          "scatter3d": [
           {
            "line": {
             "colorbar": {
              "outlinewidth": 0,
              "ticks": ""
             }
            },
            "marker": {
             "colorbar": {
              "outlinewidth": 0,
              "ticks": ""
             }
            },
            "type": "scatter3d"
           }
          ],
          "scattercarpet": [
           {
            "marker": {
             "colorbar": {
              "outlinewidth": 0,
              "ticks": ""
             }
            },
            "type": "scattercarpet"
           }
          ],
          "scattergeo": [
           {
            "marker": {
             "colorbar": {
              "outlinewidth": 0,
              "ticks": ""
             }
            },
            "type": "scattergeo"
           }
          ],
          "scattergl": [
           {
            "marker": {
             "colorbar": {
              "outlinewidth": 0,
              "ticks": ""
             }
            },
            "type": "scattergl"
           }
          ],
          "scattermapbox": [
           {
            "marker": {
             "colorbar": {
              "outlinewidth": 0,
              "ticks": ""
             }
            },
            "type": "scattermapbox"
           }
          ],
          "scatterpolar": [
           {
            "marker": {
             "colorbar": {
              "outlinewidth": 0,
              "ticks": ""
             }
            },
            "type": "scatterpolar"
           }
          ],
          "scatterpolargl": [
           {
            "marker": {
             "colorbar": {
              "outlinewidth": 0,
              "ticks": ""
             }
            },
            "type": "scatterpolargl"
           }
          ],
          "scatterternary": [
           {
            "marker": {
             "colorbar": {
              "outlinewidth": 0,
              "ticks": ""
             }
            },
            "type": "scatterternary"
           }
          ],
          "surface": [
           {
            "colorbar": {
             "outlinewidth": 0,
             "ticks": ""
            },
            "colorscale": [
             [
              0,
              "#0d0887"
             ],
             [
              0.1111111111111111,
              "#46039f"
             ],
             [
              0.2222222222222222,
              "#7201a8"
             ],
             [
              0.3333333333333333,
              "#9c179e"
             ],
             [
              0.4444444444444444,
              "#bd3786"
             ],
             [
              0.5555555555555556,
              "#d8576b"
             ],
             [
              0.6666666666666666,
              "#ed7953"
             ],
             [
              0.7777777777777778,
              "#fb9f3a"
             ],
             [
              0.8888888888888888,
              "#fdca26"
             ],
             [
              1,
              "#f0f921"
             ]
            ],
            "type": "surface"
           }
          ],
          "table": [
           {
            "cells": {
             "fill": {
              "color": "#EBF0F8"
             },
             "line": {
              "color": "white"
             }
            },
            "header": {
             "fill": {
              "color": "#C8D4E3"
             },
             "line": {
              "color": "white"
             }
            },
            "type": "table"
           }
          ]
         },
         "layout": {
          "annotationdefaults": {
           "arrowcolor": "#2a3f5f",
           "arrowhead": 0,
           "arrowwidth": 1
          },
          "autotypenumbers": "strict",
          "coloraxis": {
           "colorbar": {
            "outlinewidth": 0,
            "ticks": ""
           }
          },
          "colorscale": {
           "diverging": [
            [
             0,
             "#8e0152"
            ],
            [
             0.1,
             "#c51b7d"
            ],
            [
             0.2,
             "#de77ae"
            ],
            [
             0.3,
             "#f1b6da"
            ],
            [
             0.4,
             "#fde0ef"
            ],
            [
             0.5,
             "#f7f7f7"
            ],
            [
             0.6,
             "#e6f5d0"
            ],
            [
             0.7,
             "#b8e186"
            ],
            [
             0.8,
             "#7fbc41"
            ],
            [
             0.9,
             "#4d9221"
            ],
            [
             1,
             "#276419"
            ]
           ],
           "sequential": [
            [
             0,
             "#0d0887"
            ],
            [
             0.1111111111111111,
             "#46039f"
            ],
            [
             0.2222222222222222,
             "#7201a8"
            ],
            [
             0.3333333333333333,
             "#9c179e"
            ],
            [
             0.4444444444444444,
             "#bd3786"
            ],
            [
             0.5555555555555556,
             "#d8576b"
            ],
            [
             0.6666666666666666,
             "#ed7953"
            ],
            [
             0.7777777777777778,
             "#fb9f3a"
            ],
            [
             0.8888888888888888,
             "#fdca26"
            ],
            [
             1,
             "#f0f921"
            ]
           ],
           "sequentialminus": [
            [
             0,
             "#0d0887"
            ],
            [
             0.1111111111111111,
             "#46039f"
            ],
            [
             0.2222222222222222,
             "#7201a8"
            ],
            [
             0.3333333333333333,
             "#9c179e"
            ],
            [
             0.4444444444444444,
             "#bd3786"
            ],
            [
             0.5555555555555556,
             "#d8576b"
            ],
            [
             0.6666666666666666,
             "#ed7953"
            ],
            [
             0.7777777777777778,
             "#fb9f3a"
            ],
            [
             0.8888888888888888,
             "#fdca26"
            ],
            [
             1,
             "#f0f921"
            ]
           ]
          },
          "colorway": [
           "#636efa",
           "#EF553B",
           "#00cc96",
           "#ab63fa",
           "#FFA15A",
           "#19d3f3",
           "#FF6692",
           "#B6E880",
           "#FF97FF",
           "#FECB52"
          ],
          "font": {
           "color": "#2a3f5f"
          },
          "geo": {
           "bgcolor": "white",
           "lakecolor": "white",
           "landcolor": "#E5ECF6",
           "showlakes": true,
           "showland": true,
           "subunitcolor": "white"
          },
          "hoverlabel": {
           "align": "left"
          },
          "hovermode": "closest",
          "mapbox": {
           "style": "light"
          },
          "paper_bgcolor": "white",
          "plot_bgcolor": "#E5ECF6",
          "polar": {
           "angularaxis": {
            "gridcolor": "white",
            "linecolor": "white",
            "ticks": ""
           },
           "bgcolor": "#E5ECF6",
           "radialaxis": {
            "gridcolor": "white",
            "linecolor": "white",
            "ticks": ""
           }
          },
          "scene": {
           "xaxis": {
            "backgroundcolor": "#E5ECF6",
            "gridcolor": "white",
            "gridwidth": 2,
            "linecolor": "white",
            "showbackground": true,
            "ticks": "",
            "zerolinecolor": "white"
           },
           "yaxis": {
            "backgroundcolor": "#E5ECF6",
            "gridcolor": "white",
            "gridwidth": 2,
            "linecolor": "white",
            "showbackground": true,
            "ticks": "",
            "zerolinecolor": "white"
           },
           "zaxis": {
            "backgroundcolor": "#E5ECF6",
            "gridcolor": "white",
            "gridwidth": 2,
            "linecolor": "white",
            "showbackground": true,
            "ticks": "",
            "zerolinecolor": "white"
           }
          },
          "shapedefaults": {
           "line": {
            "color": "#2a3f5f"
           }
          },
          "ternary": {
           "aaxis": {
            "gridcolor": "white",
            "linecolor": "white",
            "ticks": ""
           },
           "baxis": {
            "gridcolor": "white",
            "linecolor": "white",
            "ticks": ""
           },
           "bgcolor": "#E5ECF6",
           "caxis": {
            "gridcolor": "white",
            "linecolor": "white",
            "ticks": ""
           }
          },
          "title": {
           "x": 0.05
          },
          "xaxis": {
           "automargin": true,
           "gridcolor": "white",
           "linecolor": "white",
           "ticks": "",
           "title": {
            "standoff": 15
           },
           "zerolinecolor": "white",
           "zerolinewidth": 2
          },
          "yaxis": {
           "automargin": true,
           "gridcolor": "white",
           "linecolor": "white",
           "ticks": "",
           "title": {
            "standoff": 15
           },
           "zerolinecolor": "white",
           "zerolinewidth": 2
          }
         }
        },
        "xaxis": {
         "anchor": "y",
         "domain": [
          0,
          1
         ],
         "title": {
          "text": "tweet_created_at"
         }
        },
        "yaxis": {
         "anchor": "x",
         "domain": [
          0,
          1
         ],
         "title": {
          "text": "Count"
         }
        }
       }
      },
      "text/html": [
       "<div>                            <div id=\"5e4ceae7-aeab-43d5-b8f5-a94e155f83ee\" class=\"plotly-graph-div\" style=\"height:525px; width:100%;\"></div>            <script type=\"text/javascript\">                require([\"plotly\"], function(Plotly) {                    window.PLOTLYENV=window.PLOTLYENV || {};                                    if (document.getElementById(\"5e4ceae7-aeab-43d5-b8f5-a94e155f83ee\")) {                    Plotly.newPlot(                        \"5e4ceae7-aeab-43d5-b8f5-a94e155f83ee\",                        [{\"hovertemplate\":\"tweet_created_at=%{x}<br>Count=%{y}<extra></extra>\",\"legendgroup\":\"\",\"line\":{\"color\":\"#636efa\"},\"marker\":{\"symbol\":\"circle\"},\"mode\":\"lines\",\"name\":\"\",\"orientation\":\"v\",\"showlegend\":false,\"stackgroup\":\"1\",\"type\":\"scatter\",\"x\":[\"2020-07-01\",\"2020-07-02\",\"2020-07-03\",\"2020-07-04\",\"2020-07-05\",\"2020-07-06\",\"2020-07-07\",\"2020-07-08\",\"2020-07-09\",\"2020-07-10\",\"2020-07-11\",\"2020-07-12\",\"2020-07-13\",\"2020-07-14\",\"2020-07-15\",\"2020-07-16\",\"2020-07-17\",\"2020-07-20\",\"2020-07-21\",\"2020-07-22\",\"2020-07-23\",\"2020-07-24\",\"2020-07-25\",\"2020-07-26\",\"2020-07-27\",\"2020-07-28\",\"2020-07-29\",\"2020-07-30\",\"2020-07-31\",\"2020-08-02\",\"2020-08-03\",\"2020-08-04\",\"2020-08-05\",\"2020-08-06\",\"2020-08-07\",\"2020-08-09\",\"2020-08-10\",\"2020-08-11\",\"2020-08-18\",\"2020-08-20\",\"2020-08-21\",\"2020-08-22\",\"2020-08-24\",\"2020-08-26\",\"2020-08-27\",\"2020-08-28\",\"2020-08-29\",\"2020-08-30\",\"2020-08-31\",\"2020-09-01\",\"2020-09-02\",\"2020-09-03\",\"2020-09-04\",\"2020-09-05\",\"2020-09-06\",\"2020-09-07\",\"2020-09-08\",\"2020-09-09\",\"2020-09-10\",\"2020-09-11\",\"2020-09-12\",\"2020-09-13\",\"2020-09-14\",\"2020-09-15\",\"2020-09-17\",\"2020-09-19\",\"2020-09-20\",\"2020-09-21\",\"2020-09-22\",\"2020-09-23\",\"2020-09-25\",\"2020-09-26\",\"2020-09-28\",\"2020-09-29\",\"2020-09-30\"],\"xaxis\":\"x\",\"y\":[18,35,24,52,39,46,37,35,15,16,32,30,22,25,18,12,13,9,7,19,2,16,19,39,12,47,13,7,22,4,3,2,6,3,3,1,3,3,2,5,3,5,3,4,13,6,9,6,8,9,15,4,10,9,18,9,18,7,27,28,12,18,12,7,5,17,4,6,10,4,10,6,26,3,33],\"yaxis\":\"y\"}],                        {\"legend\":{\"tracegroupgap\":0},\"margin\":{\"t\":60},\"template\":{\"data\":{\"bar\":[{\"error_x\":{\"color\":\"#2a3f5f\"},\"error_y\":{\"color\":\"#2a3f5f\"},\"marker\":{\"line\":{\"color\":\"#E5ECF6\",\"width\":0.5},\"pattern\":{\"fillmode\":\"overlay\",\"size\":10,\"solidity\":0.2}},\"type\":\"bar\"}],\"barpolar\":[{\"marker\":{\"line\":{\"color\":\"#E5ECF6\",\"width\":0.5},\"pattern\":{\"fillmode\":\"overlay\",\"size\":10,\"solidity\":0.2}},\"type\":\"barpolar\"}],\"carpet\":[{\"aaxis\":{\"endlinecolor\":\"#2a3f5f\",\"gridcolor\":\"white\",\"linecolor\":\"white\",\"minorgridcolor\":\"white\",\"startlinecolor\":\"#2a3f5f\"},\"baxis\":{\"endlinecolor\":\"#2a3f5f\",\"gridcolor\":\"white\",\"linecolor\":\"white\",\"minorgridcolor\":\"white\",\"startlinecolor\":\"#2a3f5f\"},\"type\":\"carpet\"}],\"choropleth\":[{\"colorbar\":{\"outlinewidth\":0,\"ticks\":\"\"},\"type\":\"choropleth\"}],\"contour\":[{\"colorbar\":{\"outlinewidth\":0,\"ticks\":\"\"},\"colorscale\":[[0.0,\"#0d0887\"],[0.1111111111111111,\"#46039f\"],[0.2222222222222222,\"#7201a8\"],[0.3333333333333333,\"#9c179e\"],[0.4444444444444444,\"#bd3786\"],[0.5555555555555556,\"#d8576b\"],[0.6666666666666666,\"#ed7953\"],[0.7777777777777778,\"#fb9f3a\"],[0.8888888888888888,\"#fdca26\"],[1.0,\"#f0f921\"]],\"type\":\"contour\"}],\"contourcarpet\":[{\"colorbar\":{\"outlinewidth\":0,\"ticks\":\"\"},\"type\":\"contourcarpet\"}],\"heatmap\":[{\"colorbar\":{\"outlinewidth\":0,\"ticks\":\"\"},\"colorscale\":[[0.0,\"#0d0887\"],[0.1111111111111111,\"#46039f\"],[0.2222222222222222,\"#7201a8\"],[0.3333333333333333,\"#9c179e\"],[0.4444444444444444,\"#bd3786\"],[0.5555555555555556,\"#d8576b\"],[0.6666666666666666,\"#ed7953\"],[0.7777777777777778,\"#fb9f3a\"],[0.8888888888888888,\"#fdca26\"],[1.0,\"#f0f921\"]],\"type\":\"heatmap\"}],\"heatmapgl\":[{\"colorbar\":{\"outlinewidth\":0,\"ticks\":\"\"},\"colorscale\":[[0.0,\"#0d0887\"],[0.1111111111111111,\"#46039f\"],[0.2222222222222222,\"#7201a8\"],[0.3333333333333333,\"#9c179e\"],[0.4444444444444444,\"#bd3786\"],[0.5555555555555556,\"#d8576b\"],[0.6666666666666666,\"#ed7953\"],[0.7777777777777778,\"#fb9f3a\"],[0.8888888888888888,\"#fdca26\"],[1.0,\"#f0f921\"]],\"type\":\"heatmapgl\"}],\"histogram\":[{\"marker\":{\"pattern\":{\"fillmode\":\"overlay\",\"size\":10,\"solidity\":0.2}},\"type\":\"histogram\"}],\"histogram2d\":[{\"colorbar\":{\"outlinewidth\":0,\"ticks\":\"\"},\"colorscale\":[[0.0,\"#0d0887\"],[0.1111111111111111,\"#46039f\"],[0.2222222222222222,\"#7201a8\"],[0.3333333333333333,\"#9c179e\"],[0.4444444444444444,\"#bd3786\"],[0.5555555555555556,\"#d8576b\"],[0.6666666666666666,\"#ed7953\"],[0.7777777777777778,\"#fb9f3a\"],[0.8888888888888888,\"#fdca26\"],[1.0,\"#f0f921\"]],\"type\":\"histogram2d\"}],\"histogram2dcontour\":[{\"colorbar\":{\"outlinewidth\":0,\"ticks\":\"\"},\"colorscale\":[[0.0,\"#0d0887\"],[0.1111111111111111,\"#46039f\"],[0.2222222222222222,\"#7201a8\"],[0.3333333333333333,\"#9c179e\"],[0.4444444444444444,\"#bd3786\"],[0.5555555555555556,\"#d8576b\"],[0.6666666666666666,\"#ed7953\"],[0.7777777777777778,\"#fb9f3a\"],[0.8888888888888888,\"#fdca26\"],[1.0,\"#f0f921\"]],\"type\":\"histogram2dcontour\"}],\"mesh3d\":[{\"colorbar\":{\"outlinewidth\":0,\"ticks\":\"\"},\"type\":\"mesh3d\"}],\"parcoords\":[{\"line\":{\"colorbar\":{\"outlinewidth\":0,\"ticks\":\"\"}},\"type\":\"parcoords\"}],\"pie\":[{\"automargin\":true,\"type\":\"pie\"}],\"scatter\":[{\"marker\":{\"colorbar\":{\"outlinewidth\":0,\"ticks\":\"\"}},\"type\":\"scatter\"}],\"scatter3d\":[{\"line\":{\"colorbar\":{\"outlinewidth\":0,\"ticks\":\"\"}},\"marker\":{\"colorbar\":{\"outlinewidth\":0,\"ticks\":\"\"}},\"type\":\"scatter3d\"}],\"scattercarpet\":[{\"marker\":{\"colorbar\":{\"outlinewidth\":0,\"ticks\":\"\"}},\"type\":\"scattercarpet\"}],\"scattergeo\":[{\"marker\":{\"colorbar\":{\"outlinewidth\":0,\"ticks\":\"\"}},\"type\":\"scattergeo\"}],\"scattergl\":[{\"marker\":{\"colorbar\":{\"outlinewidth\":0,\"ticks\":\"\"}},\"type\":\"scattergl\"}],\"scattermapbox\":[{\"marker\":{\"colorbar\":{\"outlinewidth\":0,\"ticks\":\"\"}},\"type\":\"scattermapbox\"}],\"scatterpolar\":[{\"marker\":{\"colorbar\":{\"outlinewidth\":0,\"ticks\":\"\"}},\"type\":\"scatterpolar\"}],\"scatterpolargl\":[{\"marker\":{\"colorbar\":{\"outlinewidth\":0,\"ticks\":\"\"}},\"type\":\"scatterpolargl\"}],\"scatterternary\":[{\"marker\":{\"colorbar\":{\"outlinewidth\":0,\"ticks\":\"\"}},\"type\":\"scatterternary\"}],\"surface\":[{\"colorbar\":{\"outlinewidth\":0,\"ticks\":\"\"},\"colorscale\":[[0.0,\"#0d0887\"],[0.1111111111111111,\"#46039f\"],[0.2222222222222222,\"#7201a8\"],[0.3333333333333333,\"#9c179e\"],[0.4444444444444444,\"#bd3786\"],[0.5555555555555556,\"#d8576b\"],[0.6666666666666666,\"#ed7953\"],[0.7777777777777778,\"#fb9f3a\"],[0.8888888888888888,\"#fdca26\"],[1.0,\"#f0f921\"]],\"type\":\"surface\"}],\"table\":[{\"cells\":{\"fill\":{\"color\":\"#EBF0F8\"},\"line\":{\"color\":\"white\"}},\"header\":{\"fill\":{\"color\":\"#C8D4E3\"},\"line\":{\"color\":\"white\"}},\"type\":\"table\"}]},\"layout\":{\"annotationdefaults\":{\"arrowcolor\":\"#2a3f5f\",\"arrowhead\":0,\"arrowwidth\":1},\"autotypenumbers\":\"strict\",\"coloraxis\":{\"colorbar\":{\"outlinewidth\":0,\"ticks\":\"\"}},\"colorscale\":{\"diverging\":[[0,\"#8e0152\"],[0.1,\"#c51b7d\"],[0.2,\"#de77ae\"],[0.3,\"#f1b6da\"],[0.4,\"#fde0ef\"],[0.5,\"#f7f7f7\"],[0.6,\"#e6f5d0\"],[0.7,\"#b8e186\"],[0.8,\"#7fbc41\"],[0.9,\"#4d9221\"],[1,\"#276419\"]],\"sequential\":[[0.0,\"#0d0887\"],[0.1111111111111111,\"#46039f\"],[0.2222222222222222,\"#7201a8\"],[0.3333333333333333,\"#9c179e\"],[0.4444444444444444,\"#bd3786\"],[0.5555555555555556,\"#d8576b\"],[0.6666666666666666,\"#ed7953\"],[0.7777777777777778,\"#fb9f3a\"],[0.8888888888888888,\"#fdca26\"],[1.0,\"#f0f921\"]],\"sequentialminus\":[[0.0,\"#0d0887\"],[0.1111111111111111,\"#46039f\"],[0.2222222222222222,\"#7201a8\"],[0.3333333333333333,\"#9c179e\"],[0.4444444444444444,\"#bd3786\"],[0.5555555555555556,\"#d8576b\"],[0.6666666666666666,\"#ed7953\"],[0.7777777777777778,\"#fb9f3a\"],[0.8888888888888888,\"#fdca26\"],[1.0,\"#f0f921\"]]},\"colorway\":[\"#636efa\",\"#EF553B\",\"#00cc96\",\"#ab63fa\",\"#FFA15A\",\"#19d3f3\",\"#FF6692\",\"#B6E880\",\"#FF97FF\",\"#FECB52\"],\"font\":{\"color\":\"#2a3f5f\"},\"geo\":{\"bgcolor\":\"white\",\"lakecolor\":\"white\",\"landcolor\":\"#E5ECF6\",\"showlakes\":true,\"showland\":true,\"subunitcolor\":\"white\"},\"hoverlabel\":{\"align\":\"left\"},\"hovermode\":\"closest\",\"mapbox\":{\"style\":\"light\"},\"paper_bgcolor\":\"white\",\"plot_bgcolor\":\"#E5ECF6\",\"polar\":{\"angularaxis\":{\"gridcolor\":\"white\",\"linecolor\":\"white\",\"ticks\":\"\"},\"bgcolor\":\"#E5ECF6\",\"radialaxis\":{\"gridcolor\":\"white\",\"linecolor\":\"white\",\"ticks\":\"\"}},\"scene\":{\"xaxis\":{\"backgroundcolor\":\"#E5ECF6\",\"gridcolor\":\"white\",\"gridwidth\":2,\"linecolor\":\"white\",\"showbackground\":true,\"ticks\":\"\",\"zerolinecolor\":\"white\"},\"yaxis\":{\"backgroundcolor\":\"#E5ECF6\",\"gridcolor\":\"white\",\"gridwidth\":2,\"linecolor\":\"white\",\"showbackground\":true,\"ticks\":\"\",\"zerolinecolor\":\"white\"},\"zaxis\":{\"backgroundcolor\":\"#E5ECF6\",\"gridcolor\":\"white\",\"gridwidth\":2,\"linecolor\":\"white\",\"showbackground\":true,\"ticks\":\"\",\"zerolinecolor\":\"white\"}},\"shapedefaults\":{\"line\":{\"color\":\"#2a3f5f\"}},\"ternary\":{\"aaxis\":{\"gridcolor\":\"white\",\"linecolor\":\"white\",\"ticks\":\"\"},\"baxis\":{\"gridcolor\":\"white\",\"linecolor\":\"white\",\"ticks\":\"\"},\"bgcolor\":\"#E5ECF6\",\"caxis\":{\"gridcolor\":\"white\",\"linecolor\":\"white\",\"ticks\":\"\"}},\"title\":{\"x\":0.05},\"xaxis\":{\"automargin\":true,\"gridcolor\":\"white\",\"linecolor\":\"white\",\"ticks\":\"\",\"title\":{\"standoff\":15},\"zerolinecolor\":\"white\",\"zerolinewidth\":2},\"yaxis\":{\"automargin\":true,\"gridcolor\":\"white\",\"linecolor\":\"white\",\"ticks\":\"\",\"title\":{\"standoff\":15},\"zerolinecolor\":\"white\",\"zerolinewidth\":2}}},\"xaxis\":{\"anchor\":\"y\",\"domain\":[0.0,1.0],\"title\":{\"text\":\"tweet_created_at\"}},\"yaxis\":{\"anchor\":\"x\",\"domain\":[0.0,1.0],\"title\":{\"text\":\"Count\"}}},                        {\"responsive\": true}                    ).then(function(){\n",
       "                            \n",
       "var gd = document.getElementById('5e4ceae7-aeab-43d5-b8f5-a94e155f83ee');\n",
       "var x = new MutationObserver(function (mutations, observer) {{\n",
       "        var display = window.getComputedStyle(gd).display;\n",
       "        if (!display || display === 'none') {{\n",
       "            console.log([gd, 'removed!']);\n",
       "            Plotly.purge(gd);\n",
       "            observer.disconnect();\n",
       "        }}\n",
       "}});\n",
       "\n",
       "// Listen for the removal of the full notebook cells\n",
       "var notebookContainer = gd.closest('#notebook-container');\n",
       "if (notebookContainer) {{\n",
       "    x.observe(notebookContainer, {childList: true});\n",
       "}}\n",
       "\n",
       "// Listen for the clearing of the current output cell\n",
       "var outputEl = gd.closest('.output');\n",
       "if (outputEl) {{\n",
       "    x.observe(outputEl, {childList: true});\n",
       "}}\n",
       "\n",
       "                        })                };                });            </script>        </div>"
      ]
     },
     "metadata": {},
     "output_type": "display_data"
    }
   ],
   "source": [
    "fig = px.area(per_day_tweets, x =\"tweet_created_at\",  y =\"Count\")\n",
    "fig.show()"
   ]
  },
  {
   "cell_type": "code",
   "execution_count": 32,
   "id": "1e680f5a",
   "metadata": {},
   "outputs": [],
   "source": [
    "# grouping frequency of tweets per month by a user\n",
    "tweets_per_month = df.groupby(df['tweet_created_at'].dt.month).size().reset_index(name='Count')"
   ]
  },
  {
   "cell_type": "code",
   "execution_count": 33,
   "id": "54d98876",
   "metadata": {},
   "outputs": [
    {
     "name": "stdout",
     "output_type": "stream",
     "text": [
      "   tweet_created_at  Count\n",
      "0                 7    681\n",
      "1                 8     92\n",
      "2                 9    327\n"
     ]
    }
   ],
   "source": [
    "print(tweets_per_month) "
   ]
  },
  {
   "cell_type": "code",
   "execution_count": 34,
   "id": "faf3f929",
   "metadata": {},
   "outputs": [
    {
     "data": {
      "application/vnd.plotly.v1+json": {
       "config": {
        "plotlyServerURL": "https://plot.ly"
       },
       "data": [
        {
         "hovertemplate": "tweet_created_at=%{x}<br>Count=%{y}<extra></extra>",
         "legendgroup": "",
         "line": {
          "color": "#636efa"
         },
         "marker": {
          "symbol": "circle"
         },
         "mode": "lines",
         "name": "",
         "orientation": "v",
         "showlegend": false,
         "stackgroup": "1",
         "type": "scatter",
         "x": [
          7,
          8,
          9
         ],
         "xaxis": "x",
         "y": [
          681,
          92,
          327
         ],
         "yaxis": "y"
        }
       ],
       "layout": {
        "legend": {
         "tracegroupgap": 0
        },
        "margin": {
         "t": 60
        },
        "template": {
         "data": {
          "bar": [
           {
            "error_x": {
             "color": "#2a3f5f"
            },
            "error_y": {
             "color": "#2a3f5f"
            },
            "marker": {
             "line": {
              "color": "#E5ECF6",
              "width": 0.5
             },
             "pattern": {
              "fillmode": "overlay",
              "size": 10,
              "solidity": 0.2
             }
            },
            "type": "bar"
           }
          ],
          "barpolar": [
           {
            "marker": {
             "line": {
              "color": "#E5ECF6",
              "width": 0.5
             },
             "pattern": {
              "fillmode": "overlay",
              "size": 10,
              "solidity": 0.2
             }
            },
            "type": "barpolar"
           }
          ],
          "carpet": [
           {
            "aaxis": {
             "endlinecolor": "#2a3f5f",
             "gridcolor": "white",
             "linecolor": "white",
             "minorgridcolor": "white",
             "startlinecolor": "#2a3f5f"
            },
            "baxis": {
             "endlinecolor": "#2a3f5f",
             "gridcolor": "white",
             "linecolor": "white",
             "minorgridcolor": "white",
             "startlinecolor": "#2a3f5f"
            },
            "type": "carpet"
           }
          ],
          "choropleth": [
           {
            "colorbar": {
             "outlinewidth": 0,
             "ticks": ""
            },
            "type": "choropleth"
           }
          ],
          "contour": [
           {
            "colorbar": {
             "outlinewidth": 0,
             "ticks": ""
            },
            "colorscale": [
             [
              0,
              "#0d0887"
             ],
             [
              0.1111111111111111,
              "#46039f"
             ],
             [
              0.2222222222222222,
              "#7201a8"
             ],
             [
              0.3333333333333333,
              "#9c179e"
             ],
             [
              0.4444444444444444,
              "#bd3786"
             ],
             [
              0.5555555555555556,
              "#d8576b"
             ],
             [
              0.6666666666666666,
              "#ed7953"
             ],
             [
              0.7777777777777778,
              "#fb9f3a"
             ],
             [
              0.8888888888888888,
              "#fdca26"
             ],
             [
              1,
              "#f0f921"
             ]
            ],
            "type": "contour"
           }
          ],
          "contourcarpet": [
           {
            "colorbar": {
             "outlinewidth": 0,
             "ticks": ""
            },
            "type": "contourcarpet"
           }
          ],
          "heatmap": [
           {
            "colorbar": {
             "outlinewidth": 0,
             "ticks": ""
            },
            "colorscale": [
             [
              0,
              "#0d0887"
             ],
             [
              0.1111111111111111,
              "#46039f"
             ],
             [
              0.2222222222222222,
              "#7201a8"
             ],
             [
              0.3333333333333333,
              "#9c179e"
             ],
             [
              0.4444444444444444,
              "#bd3786"
             ],
             [
              0.5555555555555556,
              "#d8576b"
             ],
             [
              0.6666666666666666,
              "#ed7953"
             ],
             [
              0.7777777777777778,
              "#fb9f3a"
             ],
             [
              0.8888888888888888,
              "#fdca26"
             ],
             [
              1,
              "#f0f921"
             ]
            ],
            "type": "heatmap"
           }
          ],
          "heatmapgl": [
           {
            "colorbar": {
             "outlinewidth": 0,
             "ticks": ""
            },
            "colorscale": [
             [
              0,
              "#0d0887"
             ],
             [
              0.1111111111111111,
              "#46039f"
             ],
             [
              0.2222222222222222,
              "#7201a8"
             ],
             [
              0.3333333333333333,
              "#9c179e"
             ],
             [
              0.4444444444444444,
              "#bd3786"
             ],
             [
              0.5555555555555556,
              "#d8576b"
             ],
             [
              0.6666666666666666,
              "#ed7953"
             ],
             [
              0.7777777777777778,
              "#fb9f3a"
             ],
             [
              0.8888888888888888,
              "#fdca26"
             ],
             [
              1,
              "#f0f921"
             ]
            ],
            "type": "heatmapgl"
           }
          ],
          "histogram": [
           {
            "marker": {
             "pattern": {
              "fillmode": "overlay",
              "size": 10,
              "solidity": 0.2
             }
            },
            "type": "histogram"
           }
          ],
          "histogram2d": [
           {
            "colorbar": {
             "outlinewidth": 0,
             "ticks": ""
            },
            "colorscale": [
             [
              0,
              "#0d0887"
             ],
             [
              0.1111111111111111,
              "#46039f"
             ],
             [
              0.2222222222222222,
              "#7201a8"
             ],
             [
              0.3333333333333333,
              "#9c179e"
             ],
             [
              0.4444444444444444,
              "#bd3786"
             ],
             [
              0.5555555555555556,
              "#d8576b"
             ],
             [
              0.6666666666666666,
              "#ed7953"
             ],
             [
              0.7777777777777778,
              "#fb9f3a"
             ],
             [
              0.8888888888888888,
              "#fdca26"
             ],
             [
              1,
              "#f0f921"
             ]
            ],
            "type": "histogram2d"
           }
          ],
          "histogram2dcontour": [
           {
            "colorbar": {
             "outlinewidth": 0,
             "ticks": ""
            },
            "colorscale": [
             [
              0,
              "#0d0887"
             ],
             [
              0.1111111111111111,
              "#46039f"
             ],
             [
              0.2222222222222222,
              "#7201a8"
             ],
             [
              0.3333333333333333,
              "#9c179e"
             ],
             [
              0.4444444444444444,
              "#bd3786"
             ],
             [
              0.5555555555555556,
              "#d8576b"
             ],
             [
              0.6666666666666666,
              "#ed7953"
             ],
             [
              0.7777777777777778,
              "#fb9f3a"
             ],
             [
              0.8888888888888888,
              "#fdca26"
             ],
             [
              1,
              "#f0f921"
             ]
            ],
            "type": "histogram2dcontour"
           }
          ],
          "mesh3d": [
           {
            "colorbar": {
             "outlinewidth": 0,
             "ticks": ""
            },
            "type": "mesh3d"
           }
          ],
          "parcoords": [
           {
            "line": {
             "colorbar": {
              "outlinewidth": 0,
              "ticks": ""
             }
            },
            "type": "parcoords"
           }
          ],
          "pie": [
           {
            "automargin": true,
            "type": "pie"
           }
          ],
          "scatter": [
           {
            "marker": {
             "colorbar": {
              "outlinewidth": 0,
              "ticks": ""
             }
            },
            "type": "scatter"
           }
          ],
          "scatter3d": [
           {
            "line": {
             "colorbar": {
              "outlinewidth": 0,
              "ticks": ""
             }
            },
            "marker": {
             "colorbar": {
              "outlinewidth": 0,
              "ticks": ""
             }
            },
            "type": "scatter3d"
           }
          ],
          "scattercarpet": [
           {
            "marker": {
             "colorbar": {
              "outlinewidth": 0,
              "ticks": ""
             }
            },
            "type": "scattercarpet"
           }
          ],
          "scattergeo": [
           {
            "marker": {
             "colorbar": {
              "outlinewidth": 0,
              "ticks": ""
             }
            },
            "type": "scattergeo"
           }
          ],
          "scattergl": [
           {
            "marker": {
             "colorbar": {
              "outlinewidth": 0,
              "ticks": ""
             }
            },
            "type": "scattergl"
           }
          ],
          "scattermapbox": [
           {
            "marker": {
             "colorbar": {
              "outlinewidth": 0,
              "ticks": ""
             }
            },
            "type": "scattermapbox"
           }
          ],
          "scatterpolar": [
           {
            "marker": {
             "colorbar": {
              "outlinewidth": 0,
              "ticks": ""
             }
            },
            "type": "scatterpolar"
           }
          ],
          "scatterpolargl": [
           {
            "marker": {
             "colorbar": {
              "outlinewidth": 0,
              "ticks": ""
             }
            },
            "type": "scatterpolargl"
           }
          ],
          "scatterternary": [
           {
            "marker": {
             "colorbar": {
              "outlinewidth": 0,
              "ticks": ""
             }
            },
            "type": "scatterternary"
           }
          ],
          "surface": [
           {
            "colorbar": {
             "outlinewidth": 0,
             "ticks": ""
            },
            "colorscale": [
             [
              0,
              "#0d0887"
             ],
             [
              0.1111111111111111,
              "#46039f"
             ],
             [
              0.2222222222222222,
              "#7201a8"
             ],
             [
              0.3333333333333333,
              "#9c179e"
             ],
             [
              0.4444444444444444,
              "#bd3786"
             ],
             [
              0.5555555555555556,
              "#d8576b"
             ],
             [
              0.6666666666666666,
              "#ed7953"
             ],
             [
              0.7777777777777778,
              "#fb9f3a"
             ],
             [
              0.8888888888888888,
              "#fdca26"
             ],
             [
              1,
              "#f0f921"
             ]
            ],
            "type": "surface"
           }
          ],
          "table": [
           {
            "cells": {
             "fill": {
              "color": "#EBF0F8"
             },
             "line": {
              "color": "white"
             }
            },
            "header": {
             "fill": {
              "color": "#C8D4E3"
             },
             "line": {
              "color": "white"
             }
            },
            "type": "table"
           }
          ]
         },
         "layout": {
          "annotationdefaults": {
           "arrowcolor": "#2a3f5f",
           "arrowhead": 0,
           "arrowwidth": 1
          },
          "autotypenumbers": "strict",
          "coloraxis": {
           "colorbar": {
            "outlinewidth": 0,
            "ticks": ""
           }
          },
          "colorscale": {
           "diverging": [
            [
             0,
             "#8e0152"
            ],
            [
             0.1,
             "#c51b7d"
            ],
            [
             0.2,
             "#de77ae"
            ],
            [
             0.3,
             "#f1b6da"
            ],
            [
             0.4,
             "#fde0ef"
            ],
            [
             0.5,
             "#f7f7f7"
            ],
            [
             0.6,
             "#e6f5d0"
            ],
            [
             0.7,
             "#b8e186"
            ],
            [
             0.8,
             "#7fbc41"
            ],
            [
             0.9,
             "#4d9221"
            ],
            [
             1,
             "#276419"
            ]
           ],
           "sequential": [
            [
             0,
             "#0d0887"
            ],
            [
             0.1111111111111111,
             "#46039f"
            ],
            [
             0.2222222222222222,
             "#7201a8"
            ],
            [
             0.3333333333333333,
             "#9c179e"
            ],
            [
             0.4444444444444444,
             "#bd3786"
            ],
            [
             0.5555555555555556,
             "#d8576b"
            ],
            [
             0.6666666666666666,
             "#ed7953"
            ],
            [
             0.7777777777777778,
             "#fb9f3a"
            ],
            [
             0.8888888888888888,
             "#fdca26"
            ],
            [
             1,
             "#f0f921"
            ]
           ],
           "sequentialminus": [
            [
             0,
             "#0d0887"
            ],
            [
             0.1111111111111111,
             "#46039f"
            ],
            [
             0.2222222222222222,
             "#7201a8"
            ],
            [
             0.3333333333333333,
             "#9c179e"
            ],
            [
             0.4444444444444444,
             "#bd3786"
            ],
            [
             0.5555555555555556,
             "#d8576b"
            ],
            [
             0.6666666666666666,
             "#ed7953"
            ],
            [
             0.7777777777777778,
             "#fb9f3a"
            ],
            [
             0.8888888888888888,
             "#fdca26"
            ],
            [
             1,
             "#f0f921"
            ]
           ]
          },
          "colorway": [
           "#636efa",
           "#EF553B",
           "#00cc96",
           "#ab63fa",
           "#FFA15A",
           "#19d3f3",
           "#FF6692",
           "#B6E880",
           "#FF97FF",
           "#FECB52"
          ],
          "font": {
           "color": "#2a3f5f"
          },
          "geo": {
           "bgcolor": "white",
           "lakecolor": "white",
           "landcolor": "#E5ECF6",
           "showlakes": true,
           "showland": true,
           "subunitcolor": "white"
          },
          "hoverlabel": {
           "align": "left"
          },
          "hovermode": "closest",
          "mapbox": {
           "style": "light"
          },
          "paper_bgcolor": "white",
          "plot_bgcolor": "#E5ECF6",
          "polar": {
           "angularaxis": {
            "gridcolor": "white",
            "linecolor": "white",
            "ticks": ""
           },
           "bgcolor": "#E5ECF6",
           "radialaxis": {
            "gridcolor": "white",
            "linecolor": "white",
            "ticks": ""
           }
          },
          "scene": {
           "xaxis": {
            "backgroundcolor": "#E5ECF6",
            "gridcolor": "white",
            "gridwidth": 2,
            "linecolor": "white",
            "showbackground": true,
            "ticks": "",
            "zerolinecolor": "white"
           },
           "yaxis": {
            "backgroundcolor": "#E5ECF6",
            "gridcolor": "white",
            "gridwidth": 2,
            "linecolor": "white",
            "showbackground": true,
            "ticks": "",
            "zerolinecolor": "white"
           },
           "zaxis": {
            "backgroundcolor": "#E5ECF6",
            "gridcolor": "white",
            "gridwidth": 2,
            "linecolor": "white",
            "showbackground": true,
            "ticks": "",
            "zerolinecolor": "white"
           }
          },
          "shapedefaults": {
           "line": {
            "color": "#2a3f5f"
           }
          },
          "ternary": {
           "aaxis": {
            "gridcolor": "white",
            "linecolor": "white",
            "ticks": ""
           },
           "baxis": {
            "gridcolor": "white",
            "linecolor": "white",
            "ticks": ""
           },
           "bgcolor": "#E5ECF6",
           "caxis": {
            "gridcolor": "white",
            "linecolor": "white",
            "ticks": ""
           }
          },
          "title": {
           "x": 0.05
          },
          "xaxis": {
           "automargin": true,
           "gridcolor": "white",
           "linecolor": "white",
           "ticks": "",
           "title": {
            "standoff": 15
           },
           "zerolinecolor": "white",
           "zerolinewidth": 2
          },
          "yaxis": {
           "automargin": true,
           "gridcolor": "white",
           "linecolor": "white",
           "ticks": "",
           "title": {
            "standoff": 15
           },
           "zerolinecolor": "white",
           "zerolinewidth": 2
          }
         }
        },
        "xaxis": {
         "anchor": "y",
         "domain": [
          0,
          1
         ],
         "title": {
          "text": "tweet_created_at"
         }
        },
        "yaxis": {
         "anchor": "x",
         "domain": [
          0,
          1
         ],
         "title": {
          "text": "Count"
         }
        }
       }
      },
      "text/html": [
       "<div>                            <div id=\"156919df-f5de-4b6e-99ee-470e7d30ea72\" class=\"plotly-graph-div\" style=\"height:525px; width:100%;\"></div>            <script type=\"text/javascript\">                require([\"plotly\"], function(Plotly) {                    window.PLOTLYENV=window.PLOTLYENV || {};                                    if (document.getElementById(\"156919df-f5de-4b6e-99ee-470e7d30ea72\")) {                    Plotly.newPlot(                        \"156919df-f5de-4b6e-99ee-470e7d30ea72\",                        [{\"hovertemplate\":\"tweet_created_at=%{x}<br>Count=%{y}<extra></extra>\",\"legendgroup\":\"\",\"line\":{\"color\":\"#636efa\"},\"marker\":{\"symbol\":\"circle\"},\"mode\":\"lines\",\"name\":\"\",\"orientation\":\"v\",\"showlegend\":false,\"stackgroup\":\"1\",\"type\":\"scatter\",\"x\":[7,8,9],\"xaxis\":\"x\",\"y\":[681,92,327],\"yaxis\":\"y\"}],                        {\"legend\":{\"tracegroupgap\":0},\"margin\":{\"t\":60},\"template\":{\"data\":{\"bar\":[{\"error_x\":{\"color\":\"#2a3f5f\"},\"error_y\":{\"color\":\"#2a3f5f\"},\"marker\":{\"line\":{\"color\":\"#E5ECF6\",\"width\":0.5},\"pattern\":{\"fillmode\":\"overlay\",\"size\":10,\"solidity\":0.2}},\"type\":\"bar\"}],\"barpolar\":[{\"marker\":{\"line\":{\"color\":\"#E5ECF6\",\"width\":0.5},\"pattern\":{\"fillmode\":\"overlay\",\"size\":10,\"solidity\":0.2}},\"type\":\"barpolar\"}],\"carpet\":[{\"aaxis\":{\"endlinecolor\":\"#2a3f5f\",\"gridcolor\":\"white\",\"linecolor\":\"white\",\"minorgridcolor\":\"white\",\"startlinecolor\":\"#2a3f5f\"},\"baxis\":{\"endlinecolor\":\"#2a3f5f\",\"gridcolor\":\"white\",\"linecolor\":\"white\",\"minorgridcolor\":\"white\",\"startlinecolor\":\"#2a3f5f\"},\"type\":\"carpet\"}],\"choropleth\":[{\"colorbar\":{\"outlinewidth\":0,\"ticks\":\"\"},\"type\":\"choropleth\"}],\"contour\":[{\"colorbar\":{\"outlinewidth\":0,\"ticks\":\"\"},\"colorscale\":[[0.0,\"#0d0887\"],[0.1111111111111111,\"#46039f\"],[0.2222222222222222,\"#7201a8\"],[0.3333333333333333,\"#9c179e\"],[0.4444444444444444,\"#bd3786\"],[0.5555555555555556,\"#d8576b\"],[0.6666666666666666,\"#ed7953\"],[0.7777777777777778,\"#fb9f3a\"],[0.8888888888888888,\"#fdca26\"],[1.0,\"#f0f921\"]],\"type\":\"contour\"}],\"contourcarpet\":[{\"colorbar\":{\"outlinewidth\":0,\"ticks\":\"\"},\"type\":\"contourcarpet\"}],\"heatmap\":[{\"colorbar\":{\"outlinewidth\":0,\"ticks\":\"\"},\"colorscale\":[[0.0,\"#0d0887\"],[0.1111111111111111,\"#46039f\"],[0.2222222222222222,\"#7201a8\"],[0.3333333333333333,\"#9c179e\"],[0.4444444444444444,\"#bd3786\"],[0.5555555555555556,\"#d8576b\"],[0.6666666666666666,\"#ed7953\"],[0.7777777777777778,\"#fb9f3a\"],[0.8888888888888888,\"#fdca26\"],[1.0,\"#f0f921\"]],\"type\":\"heatmap\"}],\"heatmapgl\":[{\"colorbar\":{\"outlinewidth\":0,\"ticks\":\"\"},\"colorscale\":[[0.0,\"#0d0887\"],[0.1111111111111111,\"#46039f\"],[0.2222222222222222,\"#7201a8\"],[0.3333333333333333,\"#9c179e\"],[0.4444444444444444,\"#bd3786\"],[0.5555555555555556,\"#d8576b\"],[0.6666666666666666,\"#ed7953\"],[0.7777777777777778,\"#fb9f3a\"],[0.8888888888888888,\"#fdca26\"],[1.0,\"#f0f921\"]],\"type\":\"heatmapgl\"}],\"histogram\":[{\"marker\":{\"pattern\":{\"fillmode\":\"overlay\",\"size\":10,\"solidity\":0.2}},\"type\":\"histogram\"}],\"histogram2d\":[{\"colorbar\":{\"outlinewidth\":0,\"ticks\":\"\"},\"colorscale\":[[0.0,\"#0d0887\"],[0.1111111111111111,\"#46039f\"],[0.2222222222222222,\"#7201a8\"],[0.3333333333333333,\"#9c179e\"],[0.4444444444444444,\"#bd3786\"],[0.5555555555555556,\"#d8576b\"],[0.6666666666666666,\"#ed7953\"],[0.7777777777777778,\"#fb9f3a\"],[0.8888888888888888,\"#fdca26\"],[1.0,\"#f0f921\"]],\"type\":\"histogram2d\"}],\"histogram2dcontour\":[{\"colorbar\":{\"outlinewidth\":0,\"ticks\":\"\"},\"colorscale\":[[0.0,\"#0d0887\"],[0.1111111111111111,\"#46039f\"],[0.2222222222222222,\"#7201a8\"],[0.3333333333333333,\"#9c179e\"],[0.4444444444444444,\"#bd3786\"],[0.5555555555555556,\"#d8576b\"],[0.6666666666666666,\"#ed7953\"],[0.7777777777777778,\"#fb9f3a\"],[0.8888888888888888,\"#fdca26\"],[1.0,\"#f0f921\"]],\"type\":\"histogram2dcontour\"}],\"mesh3d\":[{\"colorbar\":{\"outlinewidth\":0,\"ticks\":\"\"},\"type\":\"mesh3d\"}],\"parcoords\":[{\"line\":{\"colorbar\":{\"outlinewidth\":0,\"ticks\":\"\"}},\"type\":\"parcoords\"}],\"pie\":[{\"automargin\":true,\"type\":\"pie\"}],\"scatter\":[{\"marker\":{\"colorbar\":{\"outlinewidth\":0,\"ticks\":\"\"}},\"type\":\"scatter\"}],\"scatter3d\":[{\"line\":{\"colorbar\":{\"outlinewidth\":0,\"ticks\":\"\"}},\"marker\":{\"colorbar\":{\"outlinewidth\":0,\"ticks\":\"\"}},\"type\":\"scatter3d\"}],\"scattercarpet\":[{\"marker\":{\"colorbar\":{\"outlinewidth\":0,\"ticks\":\"\"}},\"type\":\"scattercarpet\"}],\"scattergeo\":[{\"marker\":{\"colorbar\":{\"outlinewidth\":0,\"ticks\":\"\"}},\"type\":\"scattergeo\"}],\"scattergl\":[{\"marker\":{\"colorbar\":{\"outlinewidth\":0,\"ticks\":\"\"}},\"type\":\"scattergl\"}],\"scattermapbox\":[{\"marker\":{\"colorbar\":{\"outlinewidth\":0,\"ticks\":\"\"}},\"type\":\"scattermapbox\"}],\"scatterpolar\":[{\"marker\":{\"colorbar\":{\"outlinewidth\":0,\"ticks\":\"\"}},\"type\":\"scatterpolar\"}],\"scatterpolargl\":[{\"marker\":{\"colorbar\":{\"outlinewidth\":0,\"ticks\":\"\"}},\"type\":\"scatterpolargl\"}],\"scatterternary\":[{\"marker\":{\"colorbar\":{\"outlinewidth\":0,\"ticks\":\"\"}},\"type\":\"scatterternary\"}],\"surface\":[{\"colorbar\":{\"outlinewidth\":0,\"ticks\":\"\"},\"colorscale\":[[0.0,\"#0d0887\"],[0.1111111111111111,\"#46039f\"],[0.2222222222222222,\"#7201a8\"],[0.3333333333333333,\"#9c179e\"],[0.4444444444444444,\"#bd3786\"],[0.5555555555555556,\"#d8576b\"],[0.6666666666666666,\"#ed7953\"],[0.7777777777777778,\"#fb9f3a\"],[0.8888888888888888,\"#fdca26\"],[1.0,\"#f0f921\"]],\"type\":\"surface\"}],\"table\":[{\"cells\":{\"fill\":{\"color\":\"#EBF0F8\"},\"line\":{\"color\":\"white\"}},\"header\":{\"fill\":{\"color\":\"#C8D4E3\"},\"line\":{\"color\":\"white\"}},\"type\":\"table\"}]},\"layout\":{\"annotationdefaults\":{\"arrowcolor\":\"#2a3f5f\",\"arrowhead\":0,\"arrowwidth\":1},\"autotypenumbers\":\"strict\",\"coloraxis\":{\"colorbar\":{\"outlinewidth\":0,\"ticks\":\"\"}},\"colorscale\":{\"diverging\":[[0,\"#8e0152\"],[0.1,\"#c51b7d\"],[0.2,\"#de77ae\"],[0.3,\"#f1b6da\"],[0.4,\"#fde0ef\"],[0.5,\"#f7f7f7\"],[0.6,\"#e6f5d0\"],[0.7,\"#b8e186\"],[0.8,\"#7fbc41\"],[0.9,\"#4d9221\"],[1,\"#276419\"]],\"sequential\":[[0.0,\"#0d0887\"],[0.1111111111111111,\"#46039f\"],[0.2222222222222222,\"#7201a8\"],[0.3333333333333333,\"#9c179e\"],[0.4444444444444444,\"#bd3786\"],[0.5555555555555556,\"#d8576b\"],[0.6666666666666666,\"#ed7953\"],[0.7777777777777778,\"#fb9f3a\"],[0.8888888888888888,\"#fdca26\"],[1.0,\"#f0f921\"]],\"sequentialminus\":[[0.0,\"#0d0887\"],[0.1111111111111111,\"#46039f\"],[0.2222222222222222,\"#7201a8\"],[0.3333333333333333,\"#9c179e\"],[0.4444444444444444,\"#bd3786\"],[0.5555555555555556,\"#d8576b\"],[0.6666666666666666,\"#ed7953\"],[0.7777777777777778,\"#fb9f3a\"],[0.8888888888888888,\"#fdca26\"],[1.0,\"#f0f921\"]]},\"colorway\":[\"#636efa\",\"#EF553B\",\"#00cc96\",\"#ab63fa\",\"#FFA15A\",\"#19d3f3\",\"#FF6692\",\"#B6E880\",\"#FF97FF\",\"#FECB52\"],\"font\":{\"color\":\"#2a3f5f\"},\"geo\":{\"bgcolor\":\"white\",\"lakecolor\":\"white\",\"landcolor\":\"#E5ECF6\",\"showlakes\":true,\"showland\":true,\"subunitcolor\":\"white\"},\"hoverlabel\":{\"align\":\"left\"},\"hovermode\":\"closest\",\"mapbox\":{\"style\":\"light\"},\"paper_bgcolor\":\"white\",\"plot_bgcolor\":\"#E5ECF6\",\"polar\":{\"angularaxis\":{\"gridcolor\":\"white\",\"linecolor\":\"white\",\"ticks\":\"\"},\"bgcolor\":\"#E5ECF6\",\"radialaxis\":{\"gridcolor\":\"white\",\"linecolor\":\"white\",\"ticks\":\"\"}},\"scene\":{\"xaxis\":{\"backgroundcolor\":\"#E5ECF6\",\"gridcolor\":\"white\",\"gridwidth\":2,\"linecolor\":\"white\",\"showbackground\":true,\"ticks\":\"\",\"zerolinecolor\":\"white\"},\"yaxis\":{\"backgroundcolor\":\"#E5ECF6\",\"gridcolor\":\"white\",\"gridwidth\":2,\"linecolor\":\"white\",\"showbackground\":true,\"ticks\":\"\",\"zerolinecolor\":\"white\"},\"zaxis\":{\"backgroundcolor\":\"#E5ECF6\",\"gridcolor\":\"white\",\"gridwidth\":2,\"linecolor\":\"white\",\"showbackground\":true,\"ticks\":\"\",\"zerolinecolor\":\"white\"}},\"shapedefaults\":{\"line\":{\"color\":\"#2a3f5f\"}},\"ternary\":{\"aaxis\":{\"gridcolor\":\"white\",\"linecolor\":\"white\",\"ticks\":\"\"},\"baxis\":{\"gridcolor\":\"white\",\"linecolor\":\"white\",\"ticks\":\"\"},\"bgcolor\":\"#E5ECF6\",\"caxis\":{\"gridcolor\":\"white\",\"linecolor\":\"white\",\"ticks\":\"\"}},\"title\":{\"x\":0.05},\"xaxis\":{\"automargin\":true,\"gridcolor\":\"white\",\"linecolor\":\"white\",\"ticks\":\"\",\"title\":{\"standoff\":15},\"zerolinecolor\":\"white\",\"zerolinewidth\":2},\"yaxis\":{\"automargin\":true,\"gridcolor\":\"white\",\"linecolor\":\"white\",\"ticks\":\"\",\"title\":{\"standoff\":15},\"zerolinecolor\":\"white\",\"zerolinewidth\":2}}},\"xaxis\":{\"anchor\":\"y\",\"domain\":[0.0,1.0],\"title\":{\"text\":\"tweet_created_at\"}},\"yaxis\":{\"anchor\":\"x\",\"domain\":[0.0,1.0],\"title\":{\"text\":\"Count\"}}},                        {\"responsive\": true}                    ).then(function(){\n",
       "                            \n",
       "var gd = document.getElementById('156919df-f5de-4b6e-99ee-470e7d30ea72');\n",
       "var x = new MutationObserver(function (mutations, observer) {{\n",
       "        var display = window.getComputedStyle(gd).display;\n",
       "        if (!display || display === 'none') {{\n",
       "            console.log([gd, 'removed!']);\n",
       "            Plotly.purge(gd);\n",
       "            observer.disconnect();\n",
       "        }}\n",
       "}});\n",
       "\n",
       "// Listen for the removal of the full notebook cells\n",
       "var notebookContainer = gd.closest('#notebook-container');\n",
       "if (notebookContainer) {{\n",
       "    x.observe(notebookContainer, {childList: true});\n",
       "}}\n",
       "\n",
       "// Listen for the clearing of the current output cell\n",
       "var outputEl = gd.closest('.output');\n",
       "if (outputEl) {{\n",
       "    x.observe(outputEl, {childList: true});\n",
       "}}\n",
       "\n",
       "                        })                };                });            </script>        </div>"
      ]
     },
     "metadata": {},
     "output_type": "display_data"
    }
   ],
   "source": [
    "fig = px.area(tweets_per_month, x =\"tweet_created_at\",  y =\"Count\")\n",
    "fig.show()"
   ]
  },
  {
   "cell_type": "code",
   "execution_count": null,
   "id": "ecd4fa48",
   "metadata": {},
   "outputs": [],
   "source": [
    "#### FEATURE ENGINEERING for convering 3 months data of each user to one row format "
   ]
  },
  {
   "cell_type": "code",
   "execution_count": 35,
   "id": "861dc46d",
   "metadata": {},
   "outputs": [],
   "source": [
    "user_name = df['user_screen_name'].mode()"
   ]
  },
  {
   "cell_type": "code",
   "execution_count": 36,
   "id": "f05f247d",
   "metadata": {},
   "outputs": [],
   "source": [
    "# checking whether the user involved in a conversation or not\n",
    "user_invol_conversation = pd.to_numeric(df['in_reply_to_user_id'], errors='coerce').notnull().any()"
   ]
  },
  {
   "cell_type": "code",
   "execution_count": 37,
   "id": "7a232c78",
   "metadata": {},
   "outputs": [],
   "source": [
    "# checking whether user geo enalbled or not\n",
    "user_geo_enabled = df.mode()['geo_enabled'][0]"
   ]
  },
  {
   "cell_type": "code",
   "execution_count": 38,
   "id": "ad075d1b",
   "metadata": {},
   "outputs": [],
   "source": [
    "# checking whether user verifed or not\n",
    "user_verified = df.mode()['user-verified'][0]"
   ]
  },
  {
   "cell_type": "code",
   "execution_count": 39,
   "id": "64ad50e7",
   "metadata": {},
   "outputs": [],
   "source": [
    "# analysing whether user's followers count is greater than friends count\n",
    "df['Result'] = np.where(df['followers_count'].max(axis=0)>(df['friends_count']), 1, 0)"
   ]
  },
  {
   "cell_type": "code",
   "execution_count": 40,
   "id": "5b087921",
   "metadata": {},
   "outputs": [],
   "source": [
    "user_flw_frnd_count = df['Result'].mode()"
   ]
  },
  {
   "cell_type": "code",
   "execution_count": 41,
   "id": "f0503f43",
   "metadata": {},
   "outputs": [],
   "source": [
    "# finding cosine similarity between favorites and retweet count\n",
    "Artist_x=df.favorite_count.values.reshape(-1,1)\n",
    "Artist_y=df.retweet_count.values.reshape(-1,1)\n",
    "cosine_similarity(Artist_x,Artist_y)\n",
    "df_cosine_sim = cosine_similarity(df['favorite_count'].values.reshape(1,-1), df['retweet_count'].values.reshape(1,-1))"
   ]
  },
  {
   "cell_type": "code",
   "execution_count": 42,
   "id": "decf8618",
   "metadata": {},
   "outputs": [
    {
     "name": "stdout",
     "output_type": "stream",
     "text": [
      "[[4.02374831e-05]]\n"
     ]
    }
   ],
   "source": [
    "print(df_cosine_sim)"
   ]
  },
  {
   "cell_type": "code",
   "execution_count": 43,
   "id": "581474a1",
   "metadata": {},
   "outputs": [],
   "source": [
    "df5 = pd.DataFrame(df_cosine_sim)"
   ]
  },
  {
   "cell_type": "code",
   "execution_count": 44,
   "id": "b8dfd4bb",
   "metadata": {},
   "outputs": [],
   "source": [
    "df_cosine_simililarity = df5.loc[0,].round()"
   ]
  },
  {
   "cell_type": "code",
   "execution_count": 45,
   "id": "27d3bc2b",
   "metadata": {},
   "outputs": [
    {
     "data": {
      "text/plain": [
       "0    0.0\n",
       "Name: 0, dtype: float64"
      ]
     },
     "execution_count": 45,
     "metadata": {},
     "output_type": "execute_result"
    }
   ],
   "source": [
    "df_cosine_simililarity"
   ]
  },
  {
   "cell_type": "code",
   "execution_count": 46,
   "id": "830c1b80",
   "metadata": {},
   "outputs": [],
   "source": [
    "# function for counting number tweets per day\n",
    "def number_of_tweets_per_day(df):\n",
    "     df = pd.DataFrame(['tweet_created_at'],['tweet_text'])\n",
    "     df['tweet_created_at'] = df['tweet_created_at'].astype(str)\n",
    "     df['tweet_text'] = df['tweet_text'].astype(str)\n",
    "     df['tweet_created_at'] = df['tweet_created_at'] + '-' + df[tweet_text]\n",
    "     df.groupby(df['tweet_created_at'].dt.date).size().reset_index(name='Count')"
   ]
  },
  {
   "cell_type": "code",
   "execution_count": 47,
   "id": "338bdbd4",
   "metadata": {},
   "outputs": [],
   "source": [
    "number_of_tweets_per_day = df.groupby(df['tweet_created_at'].dt.date).size().reset_index(name='Count')"
   ]
  },
  {
   "cell_type": "code",
   "execution_count": 48,
   "id": "d72f770e",
   "metadata": {},
   "outputs": [
    {
     "name": "stdout",
     "output_type": "stream",
     "text": [
      "   tweet_created_at  Count\n",
      "0        2020-07-01     18\n",
      "1        2020-07-02     35\n",
      "2        2020-07-03     24\n",
      "3        2020-07-04     52\n",
      "4        2020-07-05     39\n",
      "..              ...    ...\n",
      "70       2020-09-25     10\n",
      "71       2020-09-26      6\n",
      "72       2020-09-28     26\n",
      "73       2020-09-29      3\n",
      "74       2020-09-30     33\n",
      "\n",
      "[75 rows x 2 columns]\n"
     ]
    }
   ],
   "source": [
    "# number of tweets per day\n",
    "print(number_of_tweets_per_day)"
   ]
  },
  {
   "cell_type": "code",
   "execution_count": 49,
   "id": "8c86b49e",
   "metadata": {},
   "outputs": [
    {
     "name": "stdout",
     "output_type": "stream",
     "text": [
      "DatetimeIndex(['2020-09-30 19:26:54', '2020-09-30 19:24:47',\n",
      "               '2020-09-30 19:21:30', '2020-09-30 15:40:31',\n",
      "               '2020-09-30 15:37:00', '2020-09-30 14:21:43',\n",
      "               '2020-09-30 14:21:43', '2020-09-30 09:53:54',\n",
      "               '2020-09-30 09:53:34', '2020-09-30 09:49:11',\n",
      "               ...\n",
      "               '2020-07-01 20:06:11', '2020-07-01 20:01:31',\n",
      "               '2020-07-01 19:59:21', '2020-07-01 19:57:30',\n",
      "               '2020-07-01 19:56:59', '2020-07-01 19:56:18',\n",
      "               '2020-07-01 19:51:07', '2020-07-01 16:45:01',\n",
      "               '2020-07-01 16:42:19', '2020-07-01 16:40:19'],\n",
      "              dtype='datetime64[ns]', name='tweet_created_at', length=1100, freq=None)\n"
     ]
    }
   ],
   "source": [
    "# converting data format to year-month-date-time calculating differece between tweets\n",
    "print(df.index)"
   ]
  },
  {
   "cell_type": "code",
   "execution_count": 50,
   "id": "33e60278",
   "metadata": {},
   "outputs": [],
   "source": [
    "# assinging the converted date format to new column for calculating the time differnce between each tweet\n",
    "df['tvalue'] = df.index"
   ]
  },
  {
   "cell_type": "code",
   "execution_count": 51,
   "id": "1c0b8aba",
   "metadata": {},
   "outputs": [],
   "source": [
    "# finding time differnce between each tweet and assigning the difference to new column as \"delta\"\n",
    "df['delta'] = (df['tvalue']-df['tvalue'].shift()).fillna(pd.Timedelta('0 days'))"
   ]
  },
  {
   "cell_type": "code",
   "execution_count": 52,
   "id": "fca44835",
   "metadata": {},
   "outputs": [
    {
     "data": {
      "text/html": [
       "<div>\n",
       "<style scoped>\n",
       "    .dataframe tbody tr th:only-of-type {\n",
       "        vertical-align: middle;\n",
       "    }\n",
       "\n",
       "    .dataframe tbody tr th {\n",
       "        vertical-align: top;\n",
       "    }\n",
       "\n",
       "    .dataframe thead th {\n",
       "        text-align: right;\n",
       "    }\n",
       "</style>\n",
       "<table border=\"1\" class=\"dataframe\">\n",
       "  <thead>\n",
       "    <tr style=\"text-align: right;\">\n",
       "      <th></th>\n",
       "      <th>id_no</th>\n",
       "      <th>tweet_id</th>\n",
       "      <th>tweet_created_at</th>\n",
       "      <th>tweet_text</th>\n",
       "      <th>in_reply to status_id</th>\n",
       "      <th>in_reply_to_screen_name</th>\n",
       "      <th>in_reply_to_status_id_str</th>\n",
       "      <th>in_reply_to_user_id</th>\n",
       "      <th>in_reply_to_user_id_str</th>\n",
       "      <th>favorite_count</th>\n",
       "      <th>...</th>\n",
       "      <th>user_description</th>\n",
       "      <th>geo_enabled</th>\n",
       "      <th>user_screen_name</th>\n",
       "      <th>user_statuses_count</th>\n",
       "      <th>tweet_truncated</th>\n",
       "      <th>tweet_is_quote_status</th>\n",
       "      <th>hashtags</th>\n",
       "      <th>Result</th>\n",
       "      <th>tvalue</th>\n",
       "      <th>delta</th>\n",
       "    </tr>\n",
       "    <tr>\n",
       "      <th>tweet_created_at</th>\n",
       "      <th></th>\n",
       "      <th></th>\n",
       "      <th></th>\n",
       "      <th></th>\n",
       "      <th></th>\n",
       "      <th></th>\n",
       "      <th></th>\n",
       "      <th></th>\n",
       "      <th></th>\n",
       "      <th></th>\n",
       "      <th></th>\n",
       "      <th></th>\n",
       "      <th></th>\n",
       "      <th></th>\n",
       "      <th></th>\n",
       "      <th></th>\n",
       "      <th></th>\n",
       "      <th></th>\n",
       "      <th></th>\n",
       "      <th></th>\n",
       "      <th></th>\n",
       "    </tr>\n",
       "  </thead>\n",
       "  <tbody>\n",
       "    <tr>\n",
       "      <th>2020-09-30 19:26:54</th>\n",
       "      <td>1</td>\n",
       "      <td>1311387060725379073</td>\n",
       "      <td>2020-09-30 19:26:54</td>\n",
       "      <td>@stevenportnoy We need expert input.  It is th...</td>\n",
       "      <td>1311355856450129920</td>\n",
       "      <td>stevenportnoy</td>\n",
       "      <td>1311355856450129920</td>\n",
       "      <td>24703826</td>\n",
       "      <td>24703826</td>\n",
       "      <td>0</td>\n",
       "      <td>...</td>\n",
       "      <td>Evaluation of @realDonaldTrump's mental state ...</td>\n",
       "      <td>True</td>\n",
       "      <td>AdorableNstyWmn</td>\n",
       "      <td>11456</td>\n",
       "      <td>False</td>\n",
       "      <td>False</td>\n",
       "      <td>[]</td>\n",
       "      <td>0</td>\n",
       "      <td>2020-09-30 19:26:54</td>\n",
       "      <td>0 days 00:00:00</td>\n",
       "    </tr>\n",
       "    <tr>\n",
       "      <th>2020-09-30 19:24:47</th>\n",
       "      <td>2</td>\n",
       "      <td>1311386527121829888</td>\n",
       "      <td>2020-09-30 19:24:47</td>\n",
       "      <td>@AaronLo68947221 @JustinKollar @JoeBiden Child...</td>\n",
       "      <td>1311382663928909824</td>\n",
       "      <td>AaronLo68947221</td>\n",
       "      <td>1311382663928909824</td>\n",
       "      <td>1300351487814623232</td>\n",
       "      <td>1300351487814623232</td>\n",
       "      <td>0</td>\n",
       "      <td>...</td>\n",
       "      <td>Evaluation of @realDonaldTrump's mental state ...</td>\n",
       "      <td>True</td>\n",
       "      <td>AdorableNstyWmn</td>\n",
       "      <td>11456</td>\n",
       "      <td>False</td>\n",
       "      <td>False</td>\n",
       "      <td>[]</td>\n",
       "      <td>0</td>\n",
       "      <td>2020-09-30 19:24:47</td>\n",
       "      <td>-1 days +23:57:53</td>\n",
       "    </tr>\n",
       "    <tr>\n",
       "      <th>2020-09-30 19:21:30</th>\n",
       "      <td>3</td>\n",
       "      <td>1311385704245522433</td>\n",
       "      <td>2020-09-30 19:21:30</td>\n",
       "      <td>@DarrellIssa Umm, face masks, then we shouldn'...</td>\n",
       "      <td>1311152470400196608</td>\n",
       "      <td>DarrellIssa</td>\n",
       "      <td>1311152470400196608</td>\n",
       "      <td>22509548</td>\n",
       "      <td>22509548</td>\n",
       "      <td>0</td>\n",
       "      <td>...</td>\n",
       "      <td>Evaluation of @realDonaldTrump's mental state ...</td>\n",
       "      <td>True</td>\n",
       "      <td>AdorableNstyWmn</td>\n",
       "      <td>11456</td>\n",
       "      <td>False</td>\n",
       "      <td>False</td>\n",
       "      <td>[]</td>\n",
       "      <td>0</td>\n",
       "      <td>2020-09-30 19:21:30</td>\n",
       "      <td>-1 days +23:56:43</td>\n",
       "    </tr>\n",
       "    <tr>\n",
       "      <th>2020-09-30 15:40:31</th>\n",
       "      <td>4</td>\n",
       "      <td>1311330091209601026</td>\n",
       "      <td>2020-09-30 15:40:31</td>\n",
       "      <td>@oliverdarcy I will take seemingly senile over...</td>\n",
       "      <td>1311095192343252992</td>\n",
       "      <td>oliverdarcy</td>\n",
       "      <td>1311095192343252992</td>\n",
       "      <td>27075032</td>\n",
       "      <td>27075032</td>\n",
       "      <td>0</td>\n",
       "      <td>...</td>\n",
       "      <td>Evaluation of @realDonaldTrump's mental state ...</td>\n",
       "      <td>True</td>\n",
       "      <td>AdorableNstyWmn</td>\n",
       "      <td>11456</td>\n",
       "      <td>False</td>\n",
       "      <td>False</td>\n",
       "      <td>[]</td>\n",
       "      <td>0</td>\n",
       "      <td>2020-09-30 15:40:31</td>\n",
       "      <td>-1 days +20:19:01</td>\n",
       "    </tr>\n",
       "    <tr>\n",
       "      <th>2020-09-30 15:37:00</th>\n",
       "      <td>5</td>\n",
       "      <td>1311329203434844161</td>\n",
       "      <td>2020-09-30 15:37:00</td>\n",
       "      <td>@BeauWillimon They are no match for Angry Moms...</td>\n",
       "      <td>1311323228116320256</td>\n",
       "      <td>BeauWillimon</td>\n",
       "      <td>1311323228116320256</td>\n",
       "      <td>28185163</td>\n",
       "      <td>28185163</td>\n",
       "      <td>7</td>\n",
       "      <td>...</td>\n",
       "      <td>Evaluation of @realDonaldTrump's mental state ...</td>\n",
       "      <td>True</td>\n",
       "      <td>AdorableNstyWmn</td>\n",
       "      <td>11456</td>\n",
       "      <td>False</td>\n",
       "      <td>False</td>\n",
       "      <td>[]</td>\n",
       "      <td>0</td>\n",
       "      <td>2020-09-30 15:37:00</td>\n",
       "      <td>-1 days +23:56:29</td>\n",
       "    </tr>\n",
       "  </tbody>\n",
       "</table>\n",
       "<p>5 rows × 32 columns</p>\n",
       "</div>"
      ],
      "text/plain": [
       "                     id_no             tweet_id    tweet_created_at  \\\n",
       "tweet_created_at                                                      \n",
       "2020-09-30 19:26:54      1  1311387060725379073 2020-09-30 19:26:54   \n",
       "2020-09-30 19:24:47      2  1311386527121829888 2020-09-30 19:24:47   \n",
       "2020-09-30 19:21:30      3  1311385704245522433 2020-09-30 19:21:30   \n",
       "2020-09-30 15:40:31      4  1311330091209601026 2020-09-30 15:40:31   \n",
       "2020-09-30 15:37:00      5  1311329203434844161 2020-09-30 15:37:00   \n",
       "\n",
       "                                                            tweet_text  \\\n",
       "tweet_created_at                                                         \n",
       "2020-09-30 19:26:54  @stevenportnoy We need expert input.  It is th...   \n",
       "2020-09-30 19:24:47  @AaronLo68947221 @JustinKollar @JoeBiden Child...   \n",
       "2020-09-30 19:21:30  @DarrellIssa Umm, face masks, then we shouldn'...   \n",
       "2020-09-30 15:40:31  @oliverdarcy I will take seemingly senile over...   \n",
       "2020-09-30 15:37:00  @BeauWillimon They are no match for Angry Moms...   \n",
       "\n",
       "                    in_reply to status_id in_reply_to_screen_name  \\\n",
       "tweet_created_at                                                    \n",
       "2020-09-30 19:26:54   1311355856450129920           stevenportnoy   \n",
       "2020-09-30 19:24:47   1311382663928909824         AaronLo68947221   \n",
       "2020-09-30 19:21:30   1311152470400196608             DarrellIssa   \n",
       "2020-09-30 15:40:31   1311095192343252992             oliverdarcy   \n",
       "2020-09-30 15:37:00   1311323228116320256            BeauWillimon   \n",
       "\n",
       "                    in_reply_to_status_id_str  in_reply_to_user_id  \\\n",
       "tweet_created_at                                                     \n",
       "2020-09-30 19:26:54       1311355856450129920             24703826   \n",
       "2020-09-30 19:24:47       1311382663928909824  1300351487814623232   \n",
       "2020-09-30 19:21:30       1311152470400196608             22509548   \n",
       "2020-09-30 15:40:31       1311095192343252992             27075032   \n",
       "2020-09-30 15:37:00       1311323228116320256             28185163   \n",
       "\n",
       "                    in_reply_to_user_id_str  favorite_count  ...  \\\n",
       "tweet_created_at                                             ...   \n",
       "2020-09-30 19:26:54                24703826               0  ...   \n",
       "2020-09-30 19:24:47     1300351487814623232               0  ...   \n",
       "2020-09-30 19:21:30                22509548               0  ...   \n",
       "2020-09-30 15:40:31                27075032               0  ...   \n",
       "2020-09-30 15:37:00                28185163               7  ...   \n",
       "\n",
       "                                                      user_description  \\\n",
       "tweet_created_at                                                         \n",
       "2020-09-30 19:26:54  Evaluation of @realDonaldTrump's mental state ...   \n",
       "2020-09-30 19:24:47  Evaluation of @realDonaldTrump's mental state ...   \n",
       "2020-09-30 19:21:30  Evaluation of @realDonaldTrump's mental state ...   \n",
       "2020-09-30 15:40:31  Evaluation of @realDonaldTrump's mental state ...   \n",
       "2020-09-30 15:37:00  Evaluation of @realDonaldTrump's mental state ...   \n",
       "\n",
       "                    geo_enabled user_screen_name user_statuses_count  \\\n",
       "tweet_created_at                                                       \n",
       "2020-09-30 19:26:54        True  AdorableNstyWmn               11456   \n",
       "2020-09-30 19:24:47        True  AdorableNstyWmn               11456   \n",
       "2020-09-30 19:21:30        True  AdorableNstyWmn               11456   \n",
       "2020-09-30 15:40:31        True  AdorableNstyWmn               11456   \n",
       "2020-09-30 15:37:00        True  AdorableNstyWmn               11456   \n",
       "\n",
       "                     tweet_truncated  tweet_is_quote_status  hashtags  Result  \\\n",
       "tweet_created_at                                                                \n",
       "2020-09-30 19:26:54            False                  False        []       0   \n",
       "2020-09-30 19:24:47            False                  False        []       0   \n",
       "2020-09-30 19:21:30            False                  False        []       0   \n",
       "2020-09-30 15:40:31            False                  False        []       0   \n",
       "2020-09-30 15:37:00            False                  False        []       0   \n",
       "\n",
       "                                 tvalue             delta  \n",
       "tweet_created_at                                           \n",
       "2020-09-30 19:26:54 2020-09-30 19:26:54   0 days 00:00:00  \n",
       "2020-09-30 19:24:47 2020-09-30 19:24:47 -1 days +23:57:53  \n",
       "2020-09-30 19:21:30 2020-09-30 19:21:30 -1 days +23:56:43  \n",
       "2020-09-30 15:40:31 2020-09-30 15:40:31 -1 days +20:19:01  \n",
       "2020-09-30 15:37:00 2020-09-30 15:37:00 -1 days +23:56:29  \n",
       "\n",
       "[5 rows x 32 columns]"
      ]
     },
     "execution_count": 52,
     "metadata": {},
     "output_type": "execute_result"
    }
   ],
   "source": [
    "df.head()"
   ]
  },
  {
   "cell_type": "code",
   "execution_count": 53,
   "id": "62e44f64",
   "metadata": {},
   "outputs": [],
   "source": [
    "# calculating the difference in time between each tweet in minutes \n",
    "df['ΔT'] = df.index.to_series().diff().astype('timedelta64[m]')"
   ]
  },
  {
   "cell_type": "code",
   "execution_count": 54,
   "id": "e8d32667",
   "metadata": {},
   "outputs": [
    {
     "data": {
      "text/plain": [
       "tweet_created_at\n",
       "2020-09-30 19:26:54      0\n",
       "2020-09-30 19:24:47     -3\n",
       "2020-09-30 19:21:30     -4\n",
       "2020-09-30 15:40:31   -221\n",
       "2020-09-30 15:37:00     -4\n",
       "                      ... \n",
       "2020-07-01 19:56:18     -1\n",
       "2020-07-01 19:51:07     -6\n",
       "2020-07-01 16:45:01   -187\n",
       "2020-07-01 16:42:19     -3\n",
       "2020-07-01 16:40:19     -2\n",
       "Name: tweet_created_at, Length: 1100, dtype: int32"
      ]
     },
     "execution_count": 54,
     "metadata": {},
     "output_type": "execute_result"
    }
   ],
   "source": [
    "# filling nan alues as 0\n",
    "df.index.to_series().diff().fillna(pd.Timedelta(seconds=0)).astype('timedelta64[m]').astype('int')"
   ]
  },
  {
   "cell_type": "code",
   "execution_count": 55,
   "id": "bc777b94",
   "metadata": {},
   "outputs": [],
   "source": [
    "# finding mean, max, and min values of the time differnce value for normalization purpose\n",
    "mean_abc = df.ΔT.dropna().mean()\n",
    "max_abc = df.ΔT.dropna().max()\n",
    "min_abc = df.ΔT.dropna().min()"
   ]
  },
  {
   "cell_type": "code",
   "execution_count": 56,
   "id": "6b52deab",
   "metadata": {},
   "outputs": [],
   "source": [
    "# diffrence in time between each tweet with normalization as a new column \n",
    "df['ΔT'] = df['ΔT'].apply(lambda x: (x - mean_abc ) / (max_abc -min_abc ))"
   ]
  },
  {
   "cell_type": "code",
   "execution_count": 57,
   "id": "c0b98f4a",
   "metadata": {},
   "outputs": [
    {
     "data": {
      "text/html": [
       "<div>\n",
       "<style scoped>\n",
       "    .dataframe tbody tr th:only-of-type {\n",
       "        vertical-align: middle;\n",
       "    }\n",
       "\n",
       "    .dataframe tbody tr th {\n",
       "        vertical-align: top;\n",
       "    }\n",
       "\n",
       "    .dataframe thead th {\n",
       "        text-align: right;\n",
       "    }\n",
       "</style>\n",
       "<table border=\"1\" class=\"dataframe\">\n",
       "  <thead>\n",
       "    <tr style=\"text-align: right;\">\n",
       "      <th></th>\n",
       "      <th>id_no</th>\n",
       "      <th>tweet_id</th>\n",
       "      <th>tweet_created_at</th>\n",
       "      <th>tweet_text</th>\n",
       "      <th>in_reply to status_id</th>\n",
       "      <th>in_reply_to_screen_name</th>\n",
       "      <th>in_reply_to_status_id_str</th>\n",
       "      <th>in_reply_to_user_id</th>\n",
       "      <th>in_reply_to_user_id_str</th>\n",
       "      <th>favorite_count</th>\n",
       "      <th>...</th>\n",
       "      <th>geo_enabled</th>\n",
       "      <th>user_screen_name</th>\n",
       "      <th>user_statuses_count</th>\n",
       "      <th>tweet_truncated</th>\n",
       "      <th>tweet_is_quote_status</th>\n",
       "      <th>hashtags</th>\n",
       "      <th>Result</th>\n",
       "      <th>tvalue</th>\n",
       "      <th>delta</th>\n",
       "      <th>ΔT</th>\n",
       "    </tr>\n",
       "    <tr>\n",
       "      <th>tweet_created_at</th>\n",
       "      <th></th>\n",
       "      <th></th>\n",
       "      <th></th>\n",
       "      <th></th>\n",
       "      <th></th>\n",
       "      <th></th>\n",
       "      <th></th>\n",
       "      <th></th>\n",
       "      <th></th>\n",
       "      <th></th>\n",
       "      <th></th>\n",
       "      <th></th>\n",
       "      <th></th>\n",
       "      <th></th>\n",
       "      <th></th>\n",
       "      <th></th>\n",
       "      <th></th>\n",
       "      <th></th>\n",
       "      <th></th>\n",
       "      <th></th>\n",
       "      <th></th>\n",
       "    </tr>\n",
       "  </thead>\n",
       "  <tbody>\n",
       "    <tr>\n",
       "      <th>2020-09-30 19:26:54</th>\n",
       "      <td>1</td>\n",
       "      <td>1311387060725379073</td>\n",
       "      <td>2020-09-30 19:26:54</td>\n",
       "      <td>@stevenportnoy We need expert input.  It is th...</td>\n",
       "      <td>1311355856450129920</td>\n",
       "      <td>stevenportnoy</td>\n",
       "      <td>1311355856450129920</td>\n",
       "      <td>24703826</td>\n",
       "      <td>24703826</td>\n",
       "      <td>0</td>\n",
       "      <td>...</td>\n",
       "      <td>True</td>\n",
       "      <td>AdorableNstyWmn</td>\n",
       "      <td>11456</td>\n",
       "      <td>False</td>\n",
       "      <td>False</td>\n",
       "      <td>[]</td>\n",
       "      <td>0</td>\n",
       "      <td>2020-09-30 19:26:54</td>\n",
       "      <td>0 days 00:00:00</td>\n",
       "      <td>NaN</td>\n",
       "    </tr>\n",
       "    <tr>\n",
       "      <th>2020-09-30 19:24:47</th>\n",
       "      <td>2</td>\n",
       "      <td>1311386527121829888</td>\n",
       "      <td>2020-09-30 19:24:47</td>\n",
       "      <td>@AaronLo68947221 @JustinKollar @JoeBiden Child...</td>\n",
       "      <td>1311382663928909824</td>\n",
       "      <td>AaronLo68947221</td>\n",
       "      <td>1311382663928909824</td>\n",
       "      <td>1300351487814623232</td>\n",
       "      <td>1300351487814623232</td>\n",
       "      <td>0</td>\n",
       "      <td>...</td>\n",
       "      <td>True</td>\n",
       "      <td>AdorableNstyWmn</td>\n",
       "      <td>11456</td>\n",
       "      <td>False</td>\n",
       "      <td>False</td>\n",
       "      <td>[]</td>\n",
       "      <td>0</td>\n",
       "      <td>2020-09-30 19:24:47</td>\n",
       "      <td>-1 days +23:57:53</td>\n",
       "      <td>0.010705</td>\n",
       "    </tr>\n",
       "    <tr>\n",
       "      <th>2020-09-30 19:21:30</th>\n",
       "      <td>3</td>\n",
       "      <td>1311385704245522433</td>\n",
       "      <td>2020-09-30 19:21:30</td>\n",
       "      <td>@DarrellIssa Umm, face masks, then we shouldn'...</td>\n",
       "      <td>1311152470400196608</td>\n",
       "      <td>DarrellIssa</td>\n",
       "      <td>1311152470400196608</td>\n",
       "      <td>22509548</td>\n",
       "      <td>22509548</td>\n",
       "      <td>0</td>\n",
       "      <td>...</td>\n",
       "      <td>True</td>\n",
       "      <td>AdorableNstyWmn</td>\n",
       "      <td>11456</td>\n",
       "      <td>False</td>\n",
       "      <td>False</td>\n",
       "      <td>[]</td>\n",
       "      <td>0</td>\n",
       "      <td>2020-09-30 19:21:30</td>\n",
       "      <td>-1 days +23:56:43</td>\n",
       "      <td>0.010613</td>\n",
       "    </tr>\n",
       "    <tr>\n",
       "      <th>2020-09-30 15:40:31</th>\n",
       "      <td>4</td>\n",
       "      <td>1311330091209601026</td>\n",
       "      <td>2020-09-30 15:40:31</td>\n",
       "      <td>@oliverdarcy I will take seemingly senile over...</td>\n",
       "      <td>1311095192343252992</td>\n",
       "      <td>oliverdarcy</td>\n",
       "      <td>1311095192343252992</td>\n",
       "      <td>27075032</td>\n",
       "      <td>27075032</td>\n",
       "      <td>0</td>\n",
       "      <td>...</td>\n",
       "      <td>True</td>\n",
       "      <td>AdorableNstyWmn</td>\n",
       "      <td>11456</td>\n",
       "      <td>False</td>\n",
       "      <td>False</td>\n",
       "      <td>[]</td>\n",
       "      <td>0</td>\n",
       "      <td>2020-09-30 15:40:31</td>\n",
       "      <td>-1 days +20:19:01</td>\n",
       "      <td>-0.009264</td>\n",
       "    </tr>\n",
       "    <tr>\n",
       "      <th>2020-09-30 15:37:00</th>\n",
       "      <td>5</td>\n",
       "      <td>1311329203434844161</td>\n",
       "      <td>2020-09-30 15:37:00</td>\n",
       "      <td>@BeauWillimon They are no match for Angry Moms...</td>\n",
       "      <td>1311323228116320256</td>\n",
       "      <td>BeauWillimon</td>\n",
       "      <td>1311323228116320256</td>\n",
       "      <td>28185163</td>\n",
       "      <td>28185163</td>\n",
       "      <td>7</td>\n",
       "      <td>...</td>\n",
       "      <td>True</td>\n",
       "      <td>AdorableNstyWmn</td>\n",
       "      <td>11456</td>\n",
       "      <td>False</td>\n",
       "      <td>False</td>\n",
       "      <td>[]</td>\n",
       "      <td>0</td>\n",
       "      <td>2020-09-30 15:37:00</td>\n",
       "      <td>-1 days +23:56:29</td>\n",
       "      <td>0.010613</td>\n",
       "    </tr>\n",
       "  </tbody>\n",
       "</table>\n",
       "<p>5 rows × 33 columns</p>\n",
       "</div>"
      ],
      "text/plain": [
       "                     id_no             tweet_id    tweet_created_at  \\\n",
       "tweet_created_at                                                      \n",
       "2020-09-30 19:26:54      1  1311387060725379073 2020-09-30 19:26:54   \n",
       "2020-09-30 19:24:47      2  1311386527121829888 2020-09-30 19:24:47   \n",
       "2020-09-30 19:21:30      3  1311385704245522433 2020-09-30 19:21:30   \n",
       "2020-09-30 15:40:31      4  1311330091209601026 2020-09-30 15:40:31   \n",
       "2020-09-30 15:37:00      5  1311329203434844161 2020-09-30 15:37:00   \n",
       "\n",
       "                                                            tweet_text  \\\n",
       "tweet_created_at                                                         \n",
       "2020-09-30 19:26:54  @stevenportnoy We need expert input.  It is th...   \n",
       "2020-09-30 19:24:47  @AaronLo68947221 @JustinKollar @JoeBiden Child...   \n",
       "2020-09-30 19:21:30  @DarrellIssa Umm, face masks, then we shouldn'...   \n",
       "2020-09-30 15:40:31  @oliverdarcy I will take seemingly senile over...   \n",
       "2020-09-30 15:37:00  @BeauWillimon They are no match for Angry Moms...   \n",
       "\n",
       "                    in_reply to status_id in_reply_to_screen_name  \\\n",
       "tweet_created_at                                                    \n",
       "2020-09-30 19:26:54   1311355856450129920           stevenportnoy   \n",
       "2020-09-30 19:24:47   1311382663928909824         AaronLo68947221   \n",
       "2020-09-30 19:21:30   1311152470400196608             DarrellIssa   \n",
       "2020-09-30 15:40:31   1311095192343252992             oliverdarcy   \n",
       "2020-09-30 15:37:00   1311323228116320256            BeauWillimon   \n",
       "\n",
       "                    in_reply_to_status_id_str  in_reply_to_user_id  \\\n",
       "tweet_created_at                                                     \n",
       "2020-09-30 19:26:54       1311355856450129920             24703826   \n",
       "2020-09-30 19:24:47       1311382663928909824  1300351487814623232   \n",
       "2020-09-30 19:21:30       1311152470400196608             22509548   \n",
       "2020-09-30 15:40:31       1311095192343252992             27075032   \n",
       "2020-09-30 15:37:00       1311323228116320256             28185163   \n",
       "\n",
       "                    in_reply_to_user_id_str  favorite_count  ...  geo_enabled  \\\n",
       "tweet_created_at                                             ...                \n",
       "2020-09-30 19:26:54                24703826               0  ...         True   \n",
       "2020-09-30 19:24:47     1300351487814623232               0  ...         True   \n",
       "2020-09-30 19:21:30                22509548               0  ...         True   \n",
       "2020-09-30 15:40:31                27075032               0  ...         True   \n",
       "2020-09-30 15:37:00                28185163               7  ...         True   \n",
       "\n",
       "                    user_screen_name user_statuses_count tweet_truncated  \\\n",
       "tweet_created_at                                                           \n",
       "2020-09-30 19:26:54  AdorableNstyWmn               11456           False   \n",
       "2020-09-30 19:24:47  AdorableNstyWmn               11456           False   \n",
       "2020-09-30 19:21:30  AdorableNstyWmn               11456           False   \n",
       "2020-09-30 15:40:31  AdorableNstyWmn               11456           False   \n",
       "2020-09-30 15:37:00  AdorableNstyWmn               11456           False   \n",
       "\n",
       "                     tweet_is_quote_status  hashtags  Result  \\\n",
       "tweet_created_at                                               \n",
       "2020-09-30 19:26:54                  False        []       0   \n",
       "2020-09-30 19:24:47                  False        []       0   \n",
       "2020-09-30 19:21:30                  False        []       0   \n",
       "2020-09-30 15:40:31                  False        []       0   \n",
       "2020-09-30 15:37:00                  False        []       0   \n",
       "\n",
       "                                 tvalue             delta        ΔT  \n",
       "tweet_created_at                                                     \n",
       "2020-09-30 19:26:54 2020-09-30 19:26:54   0 days 00:00:00       NaN  \n",
       "2020-09-30 19:24:47 2020-09-30 19:24:47 -1 days +23:57:53  0.010705  \n",
       "2020-09-30 19:21:30 2020-09-30 19:21:30 -1 days +23:56:43  0.010613  \n",
       "2020-09-30 15:40:31 2020-09-30 15:40:31 -1 days +20:19:01 -0.009264  \n",
       "2020-09-30 15:37:00 2020-09-30 15:37:00 -1 days +23:56:29  0.010613  \n",
       "\n",
       "[5 rows x 33 columns]"
      ]
     },
     "execution_count": 57,
     "metadata": {},
     "output_type": "execute_result"
    }
   ],
   "source": [
    "df.head()"
   ]
  },
  {
   "cell_type": "code",
   "execution_count": 58,
   "id": "c101405f",
   "metadata": {},
   "outputs": [],
   "source": [
    "df['ΔT'] = df['ΔT'].fillna(0)       # filling nan values as 0"
   ]
  },
  {
   "cell_type": "code",
   "execution_count": 59,
   "id": "837c23ce",
   "metadata": {},
   "outputs": [],
   "source": [
    "min_max_scaler = MinMaxScaler()"
   ]
  },
  {
   "cell_type": "code",
   "execution_count": 60,
   "id": "2f2281db",
   "metadata": {},
   "outputs": [],
   "source": [
    "x_scaled = min_max_scaler.fit_transform(df['ΔT'].values.reshape(-1, 1))"
   ]
  },
  {
   "cell_type": "code",
   "execution_count": 61,
   "id": "8c6547e2",
   "metadata": {},
   "outputs": [],
   "source": [
    "df_normalized = pd.DataFrame(x_scaled)"
   ]
  },
  {
   "cell_type": "code",
   "execution_count": 62,
   "id": "54713184",
   "metadata": {},
   "outputs": [],
   "source": [
    "df_std = (df_normalized.std())    # finding standard deviation of time differnce coulmn "
   ]
  },
  {
   "cell_type": "code",
   "execution_count": 63,
   "id": "67e0a73c",
   "metadata": {},
   "outputs": [
    {
     "data": {
      "text/plain": [
       "0.04360521548236752"
      ]
     },
     "execution_count": 63,
     "metadata": {},
     "output_type": "execute_result"
    }
   ],
   "source": [
    "df_std.loc[0,]"
   ]
  },
  {
   "cell_type": "code",
   "execution_count": 64,
   "id": "d34a457c",
   "metadata": {},
   "outputs": [],
   "source": [
    "# This function will extract the twitter handles of retweed people\n",
    "def find_retweeted(tweet_text):\n",
    "     return re.findall('(?<=RT\\s)(@[A-Za-z]+[A-Za-z0-9-_]+)', tweet.text)"
   ]
  },
  {
   "cell_type": "code",
   "execution_count": 65,
   "id": "17d6aea5",
   "metadata": {},
   "outputs": [],
   "source": [
    "\n",
    "# This function will extract the twitter handles of people mentioned in the tweet\n",
    "def find_mentioned(tweet_text):\n",
    "    return re.findall('(?<!RT\\s)(@[A-Za-z]+[A-Za-z0-9-_]+)', tweetl_text)"
   ]
  },
  {
   "cell_type": "code",
   "execution_count": 66,
   "id": "eec761e6",
   "metadata": {},
   "outputs": [],
   "source": [
    "# This function will extract hashtags\n",
    "def find_hashtags(tweet_text):\n",
    "     return re.findall('(#[A-Za-z]+[A-Za-z0-9-_]+)',  tweet_text)"
   ]
  },
  {
   "cell_type": "code",
   "execution_count": 67,
   "id": "dae0b632",
   "metadata": {},
   "outputs": [],
   "source": [
    "# Takes a string and removes web links from it   \n",
    "def remove_links(tweet_text):\n",
    "    tweet_text = re.sub(r'http\\S+', '', tweet_text)\n",
    "    tweet_text = re.sub(r'bit.ly/\\S+', '', tweet_text)\n",
    "    tweet_text = tweet_text.strip('[link]')\n",
    "    return tweet_text"
   ]
  },
  {
   "cell_type": "code",
   "execution_count": 68,
   "id": "31f62cc4",
   "metadata": {},
   "outputs": [],
   "source": [
    "# Takes a string and removes retweet and @user information\n",
    "def remove_users(tweet_text):\n",
    "    tweet_text = re.sub('(RT\\s@[A-Za-z]+[A-Za-z0-9-_]+)', '', tweet_text)\n",
    "    tweet_text = re.sub('(@[A-Za-z]+[A-Za-z0-9-_]+)', '', tweet_text)\n",
    "    return tweet_text"
   ]
  },
  {
   "cell_type": "code",
   "execution_count": 69,
   "id": "9ffeaabe",
   "metadata": {},
   "outputs": [],
   "source": [
    "my_stopwords = nltk.corpus.stopwords.words('english')\n",
    "word_rooter = nltk.stem.snowball.PorterStemmer(ignore_stopwords=False).stem\n",
    "my_punctuation = '!\"$%&\\'()*+,-./:;<=>?[\\\\]^_`{|}~•@'"
   ]
  },
  {
   "cell_type": "code",
   "execution_count": 70,
   "id": "5eab8667",
   "metadata": {},
   "outputs": [
    {
     "name": "stderr",
     "output_type": "stream",
     "text": [
      "<ipython-input-70-aa9134029cce>:1: FutureWarning:\n",
      "\n",
      "The default value of regex will change from True to False in a future version.\n",
      "\n"
     ]
    }
   ],
   "source": [
    "df['tweet_text'] = df['tweet_text'].str.replace('[^\\w\\s]','')"
   ]
  },
  {
   "cell_type": "code",
   "execution_count": 71,
   "id": "f1679911",
   "metadata": {},
   "outputs": [],
   "source": [
    "# cleaning master function\n",
    "clean_tweet = []\n",
    "for tweet_text in df.tweet_text: \n",
    "    tweet_text = re.sub('[^a-zA-Z]',' ',str(tweet_text))\n",
    "    tweet_text = tweet_text.lower()               # lower case\n",
    "    tweet_text = remove_users(tweet_text)         # remove user mentions \n",
    "    tweet_text = remove_links(tweet_text)         # remove links \n",
    "    tweet_text = nltk.word_tokenize(tweet_text)   # tokenization \n",
    "    tweet_token = [ word for word in tweet_text if not word in set(stopwords.words('english'))]  # remove stopwords \n",
    "    tweet_token = [word_rooter(word) if '#' not in word else word\n",
    "                        for word in tweet_token]\n",
    "    tweet_text = \" \".join(tweet_token)\n",
    "    clean_tweet.append(tweet_text)"
   ]
  },
  {
   "cell_type": "code",
   "execution_count": 72,
   "id": "1a5f1a18",
   "metadata": {},
   "outputs": [],
   "source": [
    "# creating object of SentimentIntensityAnalyzer\n",
    "sid = SentimentIntensityAnalyzer()"
   ]
  },
  {
   "cell_type": "code",
   "execution_count": 73,
   "id": "a152ed0b",
   "metadata": {},
   "outputs": [],
   "source": [
    "# creating new column of cleaned tweets \n",
    "df['clean_tweet'] = df['tweet_text'].apply(lambda clean_tweet:clean_tweet)"
   ]
  },
  {
   "cell_type": "code",
   "execution_count": 74,
   "id": "4b403f14",
   "metadata": {},
   "outputs": [
    {
     "data": {
      "text/html": [
       "<div>\n",
       "<style scoped>\n",
       "    .dataframe tbody tr th:only-of-type {\n",
       "        vertical-align: middle;\n",
       "    }\n",
       "\n",
       "    .dataframe tbody tr th {\n",
       "        vertical-align: top;\n",
       "    }\n",
       "\n",
       "    .dataframe thead th {\n",
       "        text-align: right;\n",
       "    }\n",
       "</style>\n",
       "<table border=\"1\" class=\"dataframe\">\n",
       "  <thead>\n",
       "    <tr style=\"text-align: right;\">\n",
       "      <th></th>\n",
       "      <th>id_no</th>\n",
       "      <th>tweet_id</th>\n",
       "      <th>tweet_created_at</th>\n",
       "      <th>tweet_text</th>\n",
       "      <th>in_reply to status_id</th>\n",
       "      <th>in_reply_to_screen_name</th>\n",
       "      <th>in_reply_to_status_id_str</th>\n",
       "      <th>in_reply_to_user_id</th>\n",
       "      <th>in_reply_to_user_id_str</th>\n",
       "      <th>favorite_count</th>\n",
       "      <th>...</th>\n",
       "      <th>user_screen_name</th>\n",
       "      <th>user_statuses_count</th>\n",
       "      <th>tweet_truncated</th>\n",
       "      <th>tweet_is_quote_status</th>\n",
       "      <th>hashtags</th>\n",
       "      <th>Result</th>\n",
       "      <th>tvalue</th>\n",
       "      <th>delta</th>\n",
       "      <th>ΔT</th>\n",
       "      <th>clean_tweet</th>\n",
       "    </tr>\n",
       "    <tr>\n",
       "      <th>tweet_created_at</th>\n",
       "      <th></th>\n",
       "      <th></th>\n",
       "      <th></th>\n",
       "      <th></th>\n",
       "      <th></th>\n",
       "      <th></th>\n",
       "      <th></th>\n",
       "      <th></th>\n",
       "      <th></th>\n",
       "      <th></th>\n",
       "      <th></th>\n",
       "      <th></th>\n",
       "      <th></th>\n",
       "      <th></th>\n",
       "      <th></th>\n",
       "      <th></th>\n",
       "      <th></th>\n",
       "      <th></th>\n",
       "      <th></th>\n",
       "      <th></th>\n",
       "      <th></th>\n",
       "    </tr>\n",
       "  </thead>\n",
       "  <tbody>\n",
       "    <tr>\n",
       "      <th>2020-09-30 19:26:54</th>\n",
       "      <td>1</td>\n",
       "      <td>1311387060725379073</td>\n",
       "      <td>2020-09-30 19:26:54</td>\n",
       "      <td>stevenportnoy We need expert input  It is the ...</td>\n",
       "      <td>1311355856450129920</td>\n",
       "      <td>stevenportnoy</td>\n",
       "      <td>1311355856450129920</td>\n",
       "      <td>24703826</td>\n",
       "      <td>24703826</td>\n",
       "      <td>0</td>\n",
       "      <td>...</td>\n",
       "      <td>AdorableNstyWmn</td>\n",
       "      <td>11456</td>\n",
       "      <td>False</td>\n",
       "      <td>False</td>\n",
       "      <td>[]</td>\n",
       "      <td>0</td>\n",
       "      <td>2020-09-30 19:26:54</td>\n",
       "      <td>0 days 00:00:00</td>\n",
       "      <td>0.000000</td>\n",
       "      <td>stevenportnoy We need expert input  It is the ...</td>\n",
       "    </tr>\n",
       "    <tr>\n",
       "      <th>2020-09-30 19:24:47</th>\n",
       "      <td>2</td>\n",
       "      <td>1311386527121829888</td>\n",
       "      <td>2020-09-30 19:24:47</td>\n",
       "      <td>AaronLo68947221 JustinKollar JoeBiden Child mo...</td>\n",
       "      <td>1311382663928909824</td>\n",
       "      <td>AaronLo68947221</td>\n",
       "      <td>1311382663928909824</td>\n",
       "      <td>1300351487814623232</td>\n",
       "      <td>1300351487814623232</td>\n",
       "      <td>0</td>\n",
       "      <td>...</td>\n",
       "      <td>AdorableNstyWmn</td>\n",
       "      <td>11456</td>\n",
       "      <td>False</td>\n",
       "      <td>False</td>\n",
       "      <td>[]</td>\n",
       "      <td>0</td>\n",
       "      <td>2020-09-30 19:24:47</td>\n",
       "      <td>-1 days +23:57:53</td>\n",
       "      <td>0.010705</td>\n",
       "      <td>AaronLo68947221 JustinKollar JoeBiden Child mo...</td>\n",
       "    </tr>\n",
       "    <tr>\n",
       "      <th>2020-09-30 19:21:30</th>\n",
       "      <td>3</td>\n",
       "      <td>1311385704245522433</td>\n",
       "      <td>2020-09-30 19:21:30</td>\n",
       "      <td>DarrellIssa Umm face masks then we shouldnt ne...</td>\n",
       "      <td>1311152470400196608</td>\n",
       "      <td>DarrellIssa</td>\n",
       "      <td>1311152470400196608</td>\n",
       "      <td>22509548</td>\n",
       "      <td>22509548</td>\n",
       "      <td>0</td>\n",
       "      <td>...</td>\n",
       "      <td>AdorableNstyWmn</td>\n",
       "      <td>11456</td>\n",
       "      <td>False</td>\n",
       "      <td>False</td>\n",
       "      <td>[]</td>\n",
       "      <td>0</td>\n",
       "      <td>2020-09-30 19:21:30</td>\n",
       "      <td>-1 days +23:56:43</td>\n",
       "      <td>0.010613</td>\n",
       "      <td>DarrellIssa Umm face masks then we shouldnt ne...</td>\n",
       "    </tr>\n",
       "    <tr>\n",
       "      <th>2020-09-30 15:40:31</th>\n",
       "      <td>4</td>\n",
       "      <td>1311330091209601026</td>\n",
       "      <td>2020-09-30 15:40:31</td>\n",
       "      <td>oliverdarcy I will take seemingly senile over ...</td>\n",
       "      <td>1311095192343252992</td>\n",
       "      <td>oliverdarcy</td>\n",
       "      <td>1311095192343252992</td>\n",
       "      <td>27075032</td>\n",
       "      <td>27075032</td>\n",
       "      <td>0</td>\n",
       "      <td>...</td>\n",
       "      <td>AdorableNstyWmn</td>\n",
       "      <td>11456</td>\n",
       "      <td>False</td>\n",
       "      <td>False</td>\n",
       "      <td>[]</td>\n",
       "      <td>0</td>\n",
       "      <td>2020-09-30 15:40:31</td>\n",
       "      <td>-1 days +20:19:01</td>\n",
       "      <td>-0.009264</td>\n",
       "      <td>oliverdarcy I will take seemingly senile over ...</td>\n",
       "    </tr>\n",
       "    <tr>\n",
       "      <th>2020-09-30 15:37:00</th>\n",
       "      <td>5</td>\n",
       "      <td>1311329203434844161</td>\n",
       "      <td>2020-09-30 15:37:00</td>\n",
       "      <td>BeauWillimon They are no match for Angry Moms ...</td>\n",
       "      <td>1311323228116320256</td>\n",
       "      <td>BeauWillimon</td>\n",
       "      <td>1311323228116320256</td>\n",
       "      <td>28185163</td>\n",
       "      <td>28185163</td>\n",
       "      <td>7</td>\n",
       "      <td>...</td>\n",
       "      <td>AdorableNstyWmn</td>\n",
       "      <td>11456</td>\n",
       "      <td>False</td>\n",
       "      <td>False</td>\n",
       "      <td>[]</td>\n",
       "      <td>0</td>\n",
       "      <td>2020-09-30 15:37:00</td>\n",
       "      <td>-1 days +23:56:29</td>\n",
       "      <td>0.010613</td>\n",
       "      <td>BeauWillimon They are no match for Angry Moms ...</td>\n",
       "    </tr>\n",
       "  </tbody>\n",
       "</table>\n",
       "<p>5 rows × 34 columns</p>\n",
       "</div>"
      ],
      "text/plain": [
       "                     id_no             tweet_id    tweet_created_at  \\\n",
       "tweet_created_at                                                      \n",
       "2020-09-30 19:26:54      1  1311387060725379073 2020-09-30 19:26:54   \n",
       "2020-09-30 19:24:47      2  1311386527121829888 2020-09-30 19:24:47   \n",
       "2020-09-30 19:21:30      3  1311385704245522433 2020-09-30 19:21:30   \n",
       "2020-09-30 15:40:31      4  1311330091209601026 2020-09-30 15:40:31   \n",
       "2020-09-30 15:37:00      5  1311329203434844161 2020-09-30 15:37:00   \n",
       "\n",
       "                                                            tweet_text  \\\n",
       "tweet_created_at                                                         \n",
       "2020-09-30 19:26:54  stevenportnoy We need expert input  It is the ...   \n",
       "2020-09-30 19:24:47  AaronLo68947221 JustinKollar JoeBiden Child mo...   \n",
       "2020-09-30 19:21:30  DarrellIssa Umm face masks then we shouldnt ne...   \n",
       "2020-09-30 15:40:31  oliverdarcy I will take seemingly senile over ...   \n",
       "2020-09-30 15:37:00  BeauWillimon They are no match for Angry Moms ...   \n",
       "\n",
       "                    in_reply to status_id in_reply_to_screen_name  \\\n",
       "tweet_created_at                                                    \n",
       "2020-09-30 19:26:54   1311355856450129920           stevenportnoy   \n",
       "2020-09-30 19:24:47   1311382663928909824         AaronLo68947221   \n",
       "2020-09-30 19:21:30   1311152470400196608             DarrellIssa   \n",
       "2020-09-30 15:40:31   1311095192343252992             oliverdarcy   \n",
       "2020-09-30 15:37:00   1311323228116320256            BeauWillimon   \n",
       "\n",
       "                    in_reply_to_status_id_str  in_reply_to_user_id  \\\n",
       "tweet_created_at                                                     \n",
       "2020-09-30 19:26:54       1311355856450129920             24703826   \n",
       "2020-09-30 19:24:47       1311382663928909824  1300351487814623232   \n",
       "2020-09-30 19:21:30       1311152470400196608             22509548   \n",
       "2020-09-30 15:40:31       1311095192343252992             27075032   \n",
       "2020-09-30 15:37:00       1311323228116320256             28185163   \n",
       "\n",
       "                    in_reply_to_user_id_str  favorite_count  ...  \\\n",
       "tweet_created_at                                             ...   \n",
       "2020-09-30 19:26:54                24703826               0  ...   \n",
       "2020-09-30 19:24:47     1300351487814623232               0  ...   \n",
       "2020-09-30 19:21:30                22509548               0  ...   \n",
       "2020-09-30 15:40:31                27075032               0  ...   \n",
       "2020-09-30 15:37:00                28185163               7  ...   \n",
       "\n",
       "                     user_screen_name user_statuses_count tweet_truncated  \\\n",
       "tweet_created_at                                                            \n",
       "2020-09-30 19:26:54   AdorableNstyWmn               11456           False   \n",
       "2020-09-30 19:24:47   AdorableNstyWmn               11456           False   \n",
       "2020-09-30 19:21:30   AdorableNstyWmn               11456           False   \n",
       "2020-09-30 15:40:31   AdorableNstyWmn               11456           False   \n",
       "2020-09-30 15:37:00   AdorableNstyWmn               11456           False   \n",
       "\n",
       "                    tweet_is_quote_status  hashtags  Result  \\\n",
       "tweet_created_at                                              \n",
       "2020-09-30 19:26:54                 False        []       0   \n",
       "2020-09-30 19:24:47                 False        []       0   \n",
       "2020-09-30 19:21:30                 False        []       0   \n",
       "2020-09-30 15:40:31                 False        []       0   \n",
       "2020-09-30 15:37:00                 False        []       0   \n",
       "\n",
       "                                 tvalue             delta        ΔT  \\\n",
       "tweet_created_at                                                      \n",
       "2020-09-30 19:26:54 2020-09-30 19:26:54   0 days 00:00:00  0.000000   \n",
       "2020-09-30 19:24:47 2020-09-30 19:24:47 -1 days +23:57:53  0.010705   \n",
       "2020-09-30 19:21:30 2020-09-30 19:21:30 -1 days +23:56:43  0.010613   \n",
       "2020-09-30 15:40:31 2020-09-30 15:40:31 -1 days +20:19:01 -0.009264   \n",
       "2020-09-30 15:37:00 2020-09-30 15:37:00 -1 days +23:56:29  0.010613   \n",
       "\n",
       "                                                           clean_tweet  \n",
       "tweet_created_at                                                        \n",
       "2020-09-30 19:26:54  stevenportnoy We need expert input  It is the ...  \n",
       "2020-09-30 19:24:47  AaronLo68947221 JustinKollar JoeBiden Child mo...  \n",
       "2020-09-30 19:21:30  DarrellIssa Umm face masks then we shouldnt ne...  \n",
       "2020-09-30 15:40:31  oliverdarcy I will take seemingly senile over ...  \n",
       "2020-09-30 15:37:00  BeauWillimon They are no match for Angry Moms ...  \n",
       "\n",
       "[5 rows x 34 columns]"
      ]
     },
     "execution_count": 74,
     "metadata": {},
     "output_type": "execute_result"
    }
   ],
   "source": [
    "df.head()"
   ]
  },
  {
   "cell_type": "code",
   "execution_count": 75,
   "id": "b7cc6739",
   "metadata": {},
   "outputs": [
    {
     "data": {
      "text/plain": [
       "{'neg': 0.189, 'neu': 0.811, 'pos': 0.0, 'compound': -0.5423}"
      ]
     },
     "execution_count": 75,
     "metadata": {},
     "output_type": "execute_result"
    }
   ],
   "source": [
    "sid.polarity_scores(df.iloc[0]['clean_tweet'])    # example of first row polarity score "
   ]
  },
  {
   "cell_type": "code",
   "execution_count": 76,
   "id": "d6d30e96",
   "metadata": {},
   "outputs": [],
   "source": [
    "# applying polarity scores to the cleaned tweets and making new column as scores\n",
    "df['scores'] = df['clean_tweet'].apply(lambda clean_tweet:sid.polarity_scores(str(clean_tweet)))"
   ]
  },
  {
   "cell_type": "code",
   "execution_count": 77,
   "id": "8529e620",
   "metadata": {},
   "outputs": [],
   "source": [
    "# making new column as compund scores \n",
    "df['compound'] = df['scores'].apply(lambda d:d['compound'])"
   ]
  },
  {
   "cell_type": "code",
   "execution_count": 78,
   "id": "5356f5be",
   "metadata": {},
   "outputs": [],
   "source": [
    "df['score'] = df['compound'].apply(lambda score: 'pos' if score >=0 else 'neg')   # assigning  pos tag if compound score is greater than eqaul to 0 else neg"
   ]
  },
  {
   "cell_type": "code",
   "execution_count": 79,
   "id": "9dd3d5ff",
   "metadata": {},
   "outputs": [
    {
     "name": "stdout",
     "output_type": "stream",
     "text": [
      "{'positive': 362, 'neutral': 266, 'negative': 472}\n"
     ]
    }
   ],
   "source": [
    "# functoon for counting number of positive, negative, and neutral tweets \n",
    "summary = {\"positive\":0,\"neutral\":0,\"negative\":0}\n",
    "for clean_tweet in df.clean_tweet: \n",
    "    ss = sid.polarity_scores(str(clean_tweet))\n",
    "    if ss[\"compound\"] == 0.0: \n",
    "        summary[\"neutral\"] +=1\n",
    "    elif ss[\"compound\"] > 0.0:\n",
    "        summary[\"positive\"] +=1\n",
    "    else:\n",
    "        summary[\"negative\"] +=1\n",
    "print(summary)"
   ]
  },
  {
   "cell_type": "code",
   "execution_count": 80,
   "id": "7c473078",
   "metadata": {},
   "outputs": [],
   "source": [
    "# converting dictionary into dataframe\n",
    "data_items = summary.items()\n",
    "data_list = list(data_items)\n",
    "df_sent= pd.DataFrame(data_list)"
   ]
  },
  {
   "cell_type": "code",
   "execution_count": 81,
   "id": "6c08bef9",
   "metadata": {},
   "outputs": [
    {
     "name": "stdout",
     "output_type": "stream",
     "text": [
      "          0    1\n",
      "0  positive  362\n",
      "1   neutral  266\n",
      "2  negative  472\n"
     ]
    }
   ],
   "source": [
    "print(df_sent)"
   ]
  },
  {
   "cell_type": "code",
   "execution_count": 82,
   "id": "5ddf77f6",
   "metadata": {},
   "outputs": [],
   "source": [
    "# taking only one sentiment which has maximum counts\n",
    "df_sentiment= df_sent.iloc[df_sent[1].idxmax()] "
   ]
  },
  {
   "cell_type": "code",
   "execution_count": 83,
   "id": "235c31ff",
   "metadata": {},
   "outputs": [
    {
     "data": {
      "text/plain": [
       "'negative'"
      ]
     },
     "execution_count": 83,
     "metadata": {},
     "output_type": "execute_result"
    }
   ],
   "source": [
    "df_sentiment.loc[0,]"
   ]
  },
  {
   "cell_type": "code",
   "execution_count": 84,
   "id": "24d58d8b",
   "metadata": {},
   "outputs": [],
   "source": [
    "# creating a dictionary of all the feature engineered attribtes for converting data into one row format per user\n",
    "merged_d = dict()\n",
    "merged_d['user_screen_name'] = user_name\n",
    "merged_d['user_involved_in_conv'] = user_invol_conversation \n",
    "merged_d['geo_ebaled'] = user_geo_enabled \n",
    "merged_d['user_verified'] = user_verified \n",
    "merged_d['followers_count > friends_count'] = user_flw_frnd_count\n",
    "merged_d['fav_&_retweet_are_identical'] = df_cosine_simililarity\n",
    "merged_d['regularity_in_tweeting'] = df_std.loc[0,]\n",
    "merged_d['sentiment_of_tweets'] = df_sentiment.loc[0,]"
   ]
  },
  {
   "cell_type": "code",
   "execution_count": 85,
   "id": "a5342400",
   "metadata": {},
   "outputs": [
    {
     "name": "stdout",
     "output_type": "stream",
     "text": [
      "{'user_screen_name': 0    AdorableNstyWmn\n",
      "dtype: object, 'user_involved_in_conv': True, 'geo_ebaled': True, 'user_verified': False, 'followers_count > friends_count': 0    0\n",
      "dtype: int32, 'fav_&_retweet_are_identical': 0    0.0\n",
      "Name: 0, dtype: float64, 'regularity_in_tweeting': 0.04360521548236752, 'sentiment_of_tweets': 'negative'}\n"
     ]
    }
   ],
   "source": [
    "print(merged_d)"
   ]
  },
  {
   "cell_type": "code",
   "execution_count": 86,
   "id": "417d5886",
   "metadata": {},
   "outputs": [],
   "source": [
    "dataframe = pd.DataFrame.from_dict(merged_d)  # converting dictionary into dataframe\n",
    "merged_df = pd.DataFrame(data = merged_d, index = [0])"
   ]
  },
  {
   "cell_type": "code",
   "execution_count": 87,
   "id": "f6d35f75",
   "metadata": {},
   "outputs": [],
   "source": [
    "# appending data obtained after individual profile analysis\n",
    "# and feature engineering from one user to convert 3 months data into one row format per user\n",
    "df_final = pd.concat([dataframe]) "
   ]
  },
  {
   "cell_type": "code",
   "execution_count": 88,
   "id": "b6a29155",
   "metadata": {},
   "outputs": [
    {
     "data": {
      "text/html": [
       "<div>\n",
       "<style scoped>\n",
       "    .dataframe tbody tr th:only-of-type {\n",
       "        vertical-align: middle;\n",
       "    }\n",
       "\n",
       "    .dataframe tbody tr th {\n",
       "        vertical-align: top;\n",
       "    }\n",
       "\n",
       "    .dataframe thead th {\n",
       "        text-align: right;\n",
       "    }\n",
       "</style>\n",
       "<table border=\"1\" class=\"dataframe\">\n",
       "  <thead>\n",
       "    <tr style=\"text-align: right;\">\n",
       "      <th></th>\n",
       "      <th>user_screen_name</th>\n",
       "      <th>user_involved_in_conv</th>\n",
       "      <th>geo_ebaled</th>\n",
       "      <th>user_verified</th>\n",
       "      <th>followers_count &gt; friends_count</th>\n",
       "      <th>fav_&amp;_retweet_are_identical</th>\n",
       "      <th>regularity_in_tweeting</th>\n",
       "      <th>sentiment_of_tweets</th>\n",
       "    </tr>\n",
       "  </thead>\n",
       "  <tbody>\n",
       "    <tr>\n",
       "      <th>0</th>\n",
       "      <td>AdorableNstyWmn</td>\n",
       "      <td>True</td>\n",
       "      <td>True</td>\n",
       "      <td>False</td>\n",
       "      <td>0</td>\n",
       "      <td>0.0</td>\n",
       "      <td>0.043605</td>\n",
       "      <td>negative</td>\n",
       "    </tr>\n",
       "  </tbody>\n",
       "</table>\n",
       "</div>"
      ],
      "text/plain": [
       "  user_screen_name  user_involved_in_conv  geo_ebaled  user_verified  \\\n",
       "0  AdorableNstyWmn                   True        True          False   \n",
       "\n",
       "   followers_count > friends_count  fav_&_retweet_are_identical  \\\n",
       "0                                0                          0.0   \n",
       "\n",
       "   regularity_in_tweeting sentiment_of_tweets  \n",
       "0                0.043605            negative  "
      ]
     },
     "execution_count": 88,
     "metadata": {},
     "output_type": "execute_result"
    }
   ],
   "source": [
    "df_final   "
   ]
  },
  {
   "cell_type": "code",
   "execution_count": null,
   "id": "63b49d03",
   "metadata": {},
   "outputs": [],
   "source": []
  },
  {
   "cell_type": "code",
   "execution_count": null,
   "id": "a7021955",
   "metadata": {},
   "outputs": [],
   "source": []
  },
  {
   "cell_type": "code",
   "execution_count": null,
   "id": "3a22a060",
   "metadata": {},
   "outputs": [],
   "source": []
  },
  {
   "cell_type": "code",
   "execution_count": null,
   "id": "946cd97a",
   "metadata": {},
   "outputs": [],
   "source": []
  }
 ],
 "metadata": {
  "kernelspec": {
   "display_name": "Python 3",
   "language": "python",
   "name": "python3"
  },
  "language_info": {
   "codemirror_mode": {
    "name": "ipython",
    "version": 3
   },
   "file_extension": ".py",
   "mimetype": "text/x-python",
   "name": "python",
   "nbconvert_exporter": "python",
   "pygments_lexer": "ipython3",
   "version": "3.8.8"
  }
 },
 "nbformat": 4,
 "nbformat_minor": 5
}
